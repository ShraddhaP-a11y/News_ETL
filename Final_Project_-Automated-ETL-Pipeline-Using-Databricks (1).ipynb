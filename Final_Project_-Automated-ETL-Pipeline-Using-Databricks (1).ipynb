{
 "cells": [
  {
   "cell_type": "code",
   "execution_count": 0,
   "metadata": {
    "application/vnd.databricks.v1+cell": {
     "cellMetadata": {
      "byteLimit": 2048000,
      "rowLimit": 10000
     },
     "inputWidgets": {},
     "nuid": "067783d9-97c5-4c08-8887-b5139f2bdd7a",
     "showTitle": false,
     "tableResultSettingsMap": {},
     "title": ""
    }
   },
   "outputs": [],
   "source": [
    "import os"
   ]
  },
  {
   "cell_type": "code",
   "execution_count": 0,
   "metadata": {
    "application/vnd.databricks.v1+cell": {
     "cellMetadata": {
      "byteLimit": 2048000,
      "rowLimit": 10000
     },
     "inputWidgets": {},
     "nuid": "8599d4a5-f506-42c7-8f59-b3c96b1c5d57",
     "showTitle": false,
     "tableResultSettingsMap": {},
     "title": ""
    }
   },
   "outputs": [],
   "source": [
    "import os"
   ]
  },
  {
   "cell_type": "code",
   "execution_count": 0,
   "metadata": {
    "application/vnd.databricks.v1+cell": {
     "cellMetadata": {
      "byteLimit": 2048000,
      "rowLimit": 10000
     },
     "inputWidgets": {},
     "nuid": "3610e59d-fcc6-46b2-8e55-52c7382f2a02",
     "showTitle": false,
     "tableResultSettingsMap": {},
     "title": ""
    }
   },
   "outputs": [],
   "source": [
    "import pandas as pd"
   ]
  },
  {
   "cell_type": "code",
   "execution_count": 0,
   "metadata": {
    "application/vnd.databricks.v1+cell": {
     "cellMetadata": {
      "byteLimit": 2048000,
      "rowLimit": 10000
     },
     "collapsed": true,
     "inputWidgets": {},
     "nuid": "4fb2f3c7-c8b2-4bc2-a7fe-0c81c8498734",
     "showTitle": false,
     "tableResultSettingsMap": {},
     "title": ""
    }
   },
   "outputs": [
    {
     "output_type": "stream",
     "name": "stdout",
     "output_type": "stream",
     "text": [
      "Requirement already satisfied: azure-storage-blob==12.19.1 in /databricks/python3/lib/python3.11/site-packages (from -r https://raw.githubusercontent.com/George-Michael-Dagogo/World_news_tutorial/main/requirements.txt (line 1)) (12.19.1)\nRequirement already satisfied: lxml_html_clean==0.1.1 in /local_disk0/.ephemeral_nfs/envs/pythonEnv-6bd0eb82-af19-4f78-a215-8e8c13b5d35e/lib/python3.11/site-packages (from -r https://raw.githubusercontent.com/George-Michael-Dagogo/World_news_tutorial/main/requirements.txt (line 2)) (0.1.1)\nRequirement already satisfied: newsapi-python==0.2.7 in /local_disk0/.ephemeral_nfs/envs/pythonEnv-6bd0eb82-af19-4f78-a215-8e8c13b5d35e/lib/python3.11/site-packages (from -r https://raw.githubusercontent.com/George-Michael-Dagogo/World_news_tutorial/main/requirements.txt (line 3)) (0.2.7)\nRequirement already satisfied: newspaper3k==0.2.8 in /local_disk0/.ephemeral_nfs/envs/pythonEnv-6bd0eb82-af19-4f78-a215-8e8c13b5d35e/lib/python3.11/site-packages (from -r https://raw.githubusercontent.com/George-Michael-Dagogo/World_news_tutorial/main/requirements.txt (line 4)) (0.2.8)\nRequirement already satisfied: nltk==3.8.1 in /local_disk0/.ephemeral_nfs/envs/pythonEnv-6bd0eb82-af19-4f78-a215-8e8c13b5d35e/lib/python3.11/site-packages (from -r https://raw.githubusercontent.com/George-Michael-Dagogo/World_news_tutorial/main/requirements.txt (line 5)) (3.8.1)\nRequirement already satisfied: pandas==2.2.1 in /local_disk0/.ephemeral_nfs/envs/pythonEnv-6bd0eb82-af19-4f78-a215-8e8c13b5d35e/lib/python3.11/site-packages (from -r https://raw.githubusercontent.com/George-Michael-Dagogo/World_news_tutorial/main/requirements.txt (line 6)) (2.2.1)\nRequirement already satisfied: psycopg2-binary==2.9.9 in /local_disk0/.ephemeral_nfs/envs/pythonEnv-6bd0eb82-af19-4f78-a215-8e8c13b5d35e/lib/python3.11/site-packages (from -r https://raw.githubusercontent.com/George-Michael-Dagogo/World_news_tutorial/main/requirements.txt (line 7)) (2.9.9)\nRequirement already satisfied: pyarrow==15.0.2 in /local_disk0/.ephemeral_nfs/envs/pythonEnv-6bd0eb82-af19-4f78-a215-8e8c13b5d35e/lib/python3.11/site-packages (from -r https://raw.githubusercontent.com/George-Michael-Dagogo/World_news_tutorial/main/requirements.txt (line 8)) (15.0.2)\nRequirement already satisfied: SQLAlchemy==2.0.20 in /local_disk0/.ephemeral_nfs/envs/pythonEnv-6bd0eb82-af19-4f78-a215-8e8c13b5d35e/lib/python3.11/site-packages (from -r https://raw.githubusercontent.com/George-Michael-Dagogo/World_news_tutorial/main/requirements.txt (line 9)) (2.0.20)\nRequirement already satisfied: azure-core<2.0.0,>=1.28.0 in /databricks/python3/lib/python3.11/site-packages (from azure-storage-blob==12.19.1->-r https://raw.githubusercontent.com/George-Michael-Dagogo/World_news_tutorial/main/requirements.txt (line 1)) (1.32.0)\nRequirement already satisfied: cryptography>=2.1.4 in /databricks/python3/lib/python3.11/site-packages (from azure-storage-blob==12.19.1->-r https://raw.githubusercontent.com/George-Michael-Dagogo/World_news_tutorial/main/requirements.txt (line 1)) (41.0.3)\nRequirement already satisfied: typing-extensions>=4.3.0 in /databricks/python3/lib/python3.11/site-packages (from azure-storage-blob==12.19.1->-r https://raw.githubusercontent.com/George-Michael-Dagogo/World_news_tutorial/main/requirements.txt (line 1)) (4.10.0)\nRequirement already satisfied: isodate>=0.6.1 in /databricks/python3/lib/python3.11/site-packages (from azure-storage-blob==12.19.1->-r https://raw.githubusercontent.com/George-Michael-Dagogo/World_news_tutorial/main/requirements.txt (line 1)) (0.7.2)\nRequirement already satisfied: lxml in /local_disk0/.ephemeral_nfs/envs/pythonEnv-6bd0eb82-af19-4f78-a215-8e8c13b5d35e/lib/python3.11/site-packages (from lxml_html_clean==0.1.1->-r https://raw.githubusercontent.com/George-Michael-Dagogo/World_news_tutorial/main/requirements.txt (line 2)) (5.4.0)\nRequirement already satisfied: requests<3.0.0 in /databricks/python3/lib/python3.11/site-packages (from newsapi-python==0.2.7->-r https://raw.githubusercontent.com/George-Michael-Dagogo/World_news_tutorial/main/requirements.txt (line 3)) (2.31.0)\nRequirement already satisfied: beautifulsoup4>=4.4.1 in /local_disk0/.ephemeral_nfs/envs/pythonEnv-6bd0eb82-af19-4f78-a215-8e8c13b5d35e/lib/python3.11/site-packages (from newspaper3k==0.2.8->-r https://raw.githubusercontent.com/George-Michael-Dagogo/World_news_tutorial/main/requirements.txt (line 4)) (4.13.4)\nRequirement already satisfied: Pillow>=3.3.0 in /databricks/python3/lib/python3.11/site-packages (from newspaper3k==0.2.8->-r https://raw.githubusercontent.com/George-Michael-Dagogo/World_news_tutorial/main/requirements.txt (line 4)) (10.3.0)\nRequirement already satisfied: PyYAML>=3.11 in /databricks/python3/lib/python3.11/site-packages (from newspaper3k==0.2.8->-r https://raw.githubusercontent.com/George-Michael-Dagogo/World_news_tutorial/main/requirements.txt (line 4)) (6.0)\nRequirement already satisfied: cssselect>=0.9.2 in /local_disk0/.ephemeral_nfs/envs/pythonEnv-6bd0eb82-af19-4f78-a215-8e8c13b5d35e/lib/python3.11/site-packages (from newspaper3k==0.2.8->-r https://raw.githubusercontent.com/George-Michael-Dagogo/World_news_tutorial/main/requirements.txt (line 4)) (1.3.0)\nRequirement already satisfied: feedparser>=5.2.1 in /local_disk0/.ephemeral_nfs/envs/pythonEnv-6bd0eb82-af19-4f78-a215-8e8c13b5d35e/lib/python3.11/site-packages (from newspaper3k==0.2.8->-r https://raw.githubusercontent.com/George-Michael-Dagogo/World_news_tutorial/main/requirements.txt (line 4)) (6.0.11)\nRequirement already satisfied: tldextract>=2.0.1 in /local_disk0/.ephemeral_nfs/envs/pythonEnv-6bd0eb82-af19-4f78-a215-8e8c13b5d35e/lib/python3.11/site-packages (from newspaper3k==0.2.8->-r https://raw.githubusercontent.com/George-Michael-Dagogo/World_news_tutorial/main/requirements.txt (line 4)) (5.3.0)\nRequirement already satisfied: feedfinder2>=0.0.4 in /local_disk0/.ephemeral_nfs/envs/pythonEnv-6bd0eb82-af19-4f78-a215-8e8c13b5d35e/lib/python3.11/site-packages (from newspaper3k==0.2.8->-r https://raw.githubusercontent.com/George-Michael-Dagogo/World_news_tutorial/main/requirements.txt (line 4)) (0.0.4)\nRequirement already satisfied: jieba3k>=0.35.1 in /local_disk0/.ephemeral_nfs/envs/pythonEnv-6bd0eb82-af19-4f78-a215-8e8c13b5d35e/lib/python3.11/site-packages (from newspaper3k==0.2.8->-r https://raw.githubusercontent.com/George-Michael-Dagogo/World_news_tutorial/main/requirements.txt (line 4)) (0.35.1)\nRequirement already satisfied: python-dateutil>=2.5.3 in /databricks/python3/lib/python3.11/site-packages (from newspaper3k==0.2.8->-r https://raw.githubusercontent.com/George-Michael-Dagogo/World_news_tutorial/main/requirements.txt (line 4)) (2.8.2)\nRequirement already satisfied: tinysegmenter==0.3 in /local_disk0/.ephemeral_nfs/envs/pythonEnv-6bd0eb82-af19-4f78-a215-8e8c13b5d35e/lib/python3.11/site-packages (from newspaper3k==0.2.8->-r https://raw.githubusercontent.com/George-Michael-Dagogo/World_news_tutorial/main/requirements.txt (line 4)) (0.3)\nRequirement already satisfied: click in /databricks/python3/lib/python3.11/site-packages (from nltk==3.8.1->-r https://raw.githubusercontent.com/George-Michael-Dagogo/World_news_tutorial/main/requirements.txt (line 5)) (8.0.4)\nRequirement already satisfied: joblib in /databricks/python3/lib/python3.11/site-packages (from nltk==3.8.1->-r https://raw.githubusercontent.com/George-Michael-Dagogo/World_news_tutorial/main/requirements.txt (line 5)) (1.2.0)\nRequirement already satisfied: regex>=2021.8.3 in /local_disk0/.ephemeral_nfs/envs/pythonEnv-6bd0eb82-af19-4f78-a215-8e8c13b5d35e/lib/python3.11/site-packages (from nltk==3.8.1->-r https://raw.githubusercontent.com/George-Michael-Dagogo/World_news_tutorial/main/requirements.txt (line 5)) (2024.11.6)\nRequirement already satisfied: tqdm in /local_disk0/.ephemeral_nfs/envs/pythonEnv-6bd0eb82-af19-4f78-a215-8e8c13b5d35e/lib/python3.11/site-packages (from nltk==3.8.1->-r https://raw.githubusercontent.com/George-Michael-Dagogo/World_news_tutorial/main/requirements.txt (line 5)) (4.67.1)\nRequirement already satisfied: numpy<2,>=1.23.2 in /databricks/python3/lib/python3.11/site-packages (from pandas==2.2.1->-r https://raw.githubusercontent.com/George-Michael-Dagogo/World_news_tutorial/main/requirements.txt (line 6)) (1.23.5)\nRequirement already satisfied: pytz>=2020.1 in /databricks/python3/lib/python3.11/site-packages (from pandas==2.2.1->-r https://raw.githubusercontent.com/George-Michael-Dagogo/World_news_tutorial/main/requirements.txt (line 6)) (2022.7)\nRequirement already satisfied: tzdata>=2022.7 in /local_disk0/.ephemeral_nfs/envs/pythonEnv-6bd0eb82-af19-4f78-a215-8e8c13b5d35e/lib/python3.11/site-packages (from pandas==2.2.1->-r https://raw.githubusercontent.com/George-Michael-Dagogo/World_news_tutorial/main/requirements.txt (line 6)) (2025.2)\nRequirement already satisfied: greenlet!=0.4.17 in /local_disk0/.ephemeral_nfs/envs/pythonEnv-6bd0eb82-af19-4f78-a215-8e8c13b5d35e/lib/python3.11/site-packages (from SQLAlchemy==2.0.20->-r https://raw.githubusercontent.com/George-Michael-Dagogo/World_news_tutorial/main/requirements.txt (line 9)) (3.2.1)\nRequirement already satisfied: six>=1.11.0 in /usr/lib/python3/dist-packages (from azure-core<2.0.0,>=1.28.0->azure-storage-blob==12.19.1->-r https://raw.githubusercontent.com/George-Michael-Dagogo/World_news_tutorial/main/requirements.txt (line 1)) (1.16.0)\nRequirement already satisfied: soupsieve>1.2 in /local_disk0/.ephemeral_nfs/envs/pythonEnv-6bd0eb82-af19-4f78-a215-8e8c13b5d35e/lib/python3.11/site-packages (from beautifulsoup4>=4.4.1->newspaper3k==0.2.8->-r https://raw.githubusercontent.com/George-Michael-Dagogo/World_news_tutorial/main/requirements.txt (line 4)) (2.7)\nRequirement already satisfied: cffi>=1.12 in /databricks/python3/lib/python3.11/site-packages (from cryptography>=2.1.4->azure-storage-blob==12.19.1->-r https://raw.githubusercontent.com/George-Michael-Dagogo/World_news_tutorial/main/requirements.txt (line 1)) (1.15.1)\nRequirement already satisfied: sgmllib3k in /local_disk0/.ephemeral_nfs/envs/pythonEnv-6bd0eb82-af19-4f78-a215-8e8c13b5d35e/lib/python3.11/site-packages (from feedparser>=5.2.1->newspaper3k==0.2.8->-r https://raw.githubusercontent.com/George-Michael-Dagogo/World_news_tutorial/main/requirements.txt (line 4)) (1.0.0)\nRequirement already satisfied: charset-normalizer<4,>=2 in /databricks/python3/lib/python3.11/site-packages (from requests<3.0.0->newsapi-python==0.2.7->-r https://raw.githubusercontent.com/George-Michael-Dagogo/World_news_tutorial/main/requirements.txt (line 3)) (2.0.4)\nRequirement already satisfied: idna<4,>=2.5 in /databricks/python3/lib/python3.11/site-packages (from requests<3.0.0->newsapi-python==0.2.7->-r https://raw.githubusercontent.com/George-Michael-Dagogo/World_news_tutorial/main/requirements.txt (line 3)) (3.4)\nRequirement already satisfied: urllib3<3,>=1.21.1 in /databricks/python3/lib/python3.11/site-packages (from requests<3.0.0->newsapi-python==0.2.7->-r https://raw.githubusercontent.com/George-Michael-Dagogo/World_news_tutorial/main/requirements.txt (line 3)) (1.26.16)\nRequirement already satisfied: certifi>=2017.4.17 in /databricks/python3/lib/python3.11/site-packages (from requests<3.0.0->newsapi-python==0.2.7->-r https://raw.githubusercontent.com/George-Michael-Dagogo/World_news_tutorial/main/requirements.txt (line 3)) (2023.7.22)\nRequirement already satisfied: requests-file>=1.4 in /local_disk0/.ephemeral_nfs/envs/pythonEnv-6bd0eb82-af19-4f78-a215-8e8c13b5d35e/lib/python3.11/site-packages (from tldextract>=2.0.1->newspaper3k==0.2.8->-r https://raw.githubusercontent.com/George-Michael-Dagogo/World_news_tutorial/main/requirements.txt (line 4)) (2.1.0)\nRequirement already satisfied: filelock>=3.0.8 in /databricks/python3/lib/python3.11/site-packages (from tldextract>=2.0.1->newspaper3k==0.2.8->-r https://raw.githubusercontent.com/George-Michael-Dagogo/World_news_tutorial/main/requirements.txt (line 4)) (3.13.4)\nRequirement already satisfied: pycparser in /databricks/python3/lib/python3.11/site-packages (from cffi>=1.12->cryptography>=2.1.4->azure-storage-blob==12.19.1->-r https://raw.githubusercontent.com/George-Michael-Dagogo/World_news_tutorial/main/requirements.txt (line 1)) (2.21)\n"
     ]
    },
    {
     "output_type": "stream",
     "name": "stderr",
     "output_type": "stream",
     "text": [
      "\n\u001B[1m[\u001B[0m\u001B[34;49mnotice\u001B[0m\u001B[1;39;49m]\u001B[0m\u001B[39;49m A new release of pip is available: \u001B[0m\u001B[31;49m24.2\u001B[0m\u001B[39;49m -> \u001B[0m\u001B[32;49m25.0.1\u001B[0m\n\u001B[1m[\u001B[0m\u001B[34;49mnotice\u001B[0m\u001B[1;39;49m]\u001B[0m\u001B[39;49m To update, run: \u001B[0m\u001B[32;49mpip install --upgrade pip\u001B[0m\n"
     ]
    },
    {
     "output_type": "execute_result",
     "data": {
      "text/plain": [
       "0"
      ]
     },
     "execution_count": 185,
     "metadata": {},
     "output_type": "execute_result"
    }
   ],
   "source": [
    "os.system(\"pip install -r https://raw.githubusercontent.com/George-Michael-Dagogo/World_news_tutorial/main/requirements.txt\")"
   ]
  },
  {
   "cell_type": "code",
   "execution_count": 0,
   "metadata": {
    "application/vnd.databricks.v1+cell": {
     "cellMetadata": {
      "byteLimit": 2048000,
      "rowLimit": 10000
     },
     "inputWidgets": {},
     "nuid": "a6207f39-0707-4b70-942d-5ee9d9f4f771",
     "showTitle": false,
     "tableResultSettingsMap": {},
     "title": ""
    }
   },
   "outputs": [],
   "source": [
    "from newspaper import Article, Config"
   ]
  },
  {
   "cell_type": "code",
   "execution_count": 0,
   "metadata": {
    "application/vnd.databricks.v1+cell": {
     "cellMetadata": {
      "byteLimit": 2048000,
      "rowLimit": 10000
     },
     "inputWidgets": {},
     "nuid": "c938c6b8-a268-4aeb-b551-8df8c126d32d",
     "showTitle": false,
     "tableResultSettingsMap": {},
     "title": ""
    }
   },
   "outputs": [],
   "source": [
    "from nltk.corpus import stopwords"
   ]
  },
  {
   "cell_type": "code",
   "execution_count": 0,
   "metadata": {
    "application/vnd.databricks.v1+cell": {
     "cellMetadata": {
      "byteLimit": 2048000,
      "rowLimit": 10000
     },
     "inputWidgets": {},
     "nuid": "da76b9fc-75e8-4df4-bce7-b3e99c0c7be7",
     "showTitle": false,
     "tableResultSettingsMap": {},
     "title": ""
    }
   },
   "outputs": [],
   "source": [
    "import nltk\n",
    "from nltk.sentiment.vader import SentimentIntensityAnalyzer\n",
    "from datetime import date, timedelta"
   ]
  },
  {
   "cell_type": "code",
   "execution_count": 0,
   "metadata": {
    "application/vnd.databricks.v1+cell": {
     "cellMetadata": {
      "byteLimit": 2048000,
      "rowLimit": 10000
     },
     "inputWidgets": {},
     "nuid": "d4d9674d-c41d-4282-9153-619b72048cd7",
     "showTitle": false,
     "tableResultSettingsMap": {},
     "title": ""
    }
   },
   "outputs": [],
   "source": [
    "from datetime import date, timedelta"
   ]
  },
  {
   "cell_type": "code",
   "execution_count": 0,
   "metadata": {
    "application/vnd.databricks.v1+cell": {
     "cellMetadata": {
      "byteLimit": 2048000,
      "rowLimit": 10000
     },
     "inputWidgets": {},
     "nuid": "34f975cb-140a-4b51-b233-b23b291e7fcc",
     "showTitle": false,
     "tableResultSettingsMap": {},
     "title": ""
    }
   },
   "outputs": [],
   "source": [
    "from newsapi import NewsApiClient"
   ]
  },
  {
   "cell_type": "code",
   "execution_count": 0,
   "metadata": {
    "application/vnd.databricks.v1+cell": {
     "cellMetadata": {
      "byteLimit": 2048000,
      "rowLimit": 10000
     },
     "inputWidgets": {},
     "nuid": "1aa3bc1e-e88d-4968-ae4c-3edd2ff89120",
     "showTitle": false,
     "tableResultSettingsMap": {},
     "title": ""
    }
   },
   "outputs": [],
   "source": [
    "from nltk.tokenize import word_tokenize"
   ]
  },
  {
   "cell_type": "code",
   "execution_count": 0,
   "metadata": {
    "application/vnd.databricks.v1+cell": {
     "cellMetadata": {
      "byteLimit": 2048000,
      "rowLimit": 10000
     },
     "inputWidgets": {},
     "nuid": "141c8647-e7d4-4e7a-97be-36461f7cd4df",
     "showTitle": false,
     "tableResultSettingsMap": {},
     "title": ""
    }
   },
   "outputs": [],
   "source": [
    "# Function to extract content from a URL\n",
    "def full_content(url):\n",
    "    user_agent = 'Mozilla/5.0 (Macintosh; Intel Mac OS X 10_11_5) AppleWebKit/537.36 (KHTML, like Gecko) Chrome/50.0.2661.102 Safari/537.36'\n",
    "    config = Config()\n",
    "    config.browser_user_agent = user_agent\n",
    "    page = Article(url, config=config)\n",
    "\n",
    "    try:\n",
    "        page.download()\n",
    "        page.parse()\n",
    "        return page.text\n",
    "    except Exception as e:\n",
    "        print(f\"Error retrieving content from {url}: {e}\")\n",
    "        return 'couldnt retrieve'"
   ]
  },
  {
   "cell_type": "code",
   "execution_count": 0,
   "metadata": {
    "application/vnd.databricks.v1+cell": {
     "cellMetadata": {
      "byteLimit": 2048000,
      "rowLimit": 10000
     },
     "inputWidgets": {},
     "nuid": "ed9a8456-51e9-4146-a27a-70dca4de9782",
     "showTitle": false,
     "tableResultSettingsMap": {},
     "title": ""
    }
   },
   "outputs": [
    {
     "output_type": "stream",
     "name": "stderr",
     "output_type": "stream",
     "text": [
      "/home/spark-6bd0eb82-af19-4f78-a215-8e/.ipykernel/2700/command-658016692815242-3010594860:36: SettingWithCopyWarning: \nA value is trying to be set on a copy of a slice from a DataFrame\n\nSee the caveats in the documentation: https://pandas.pydata.org/pandas-docs/stable/user_guide/indexing.html#returning-a-view-versus-a-copy\n  filtered_df.rename(columns={'publishedAt': 'date_posted'}, inplace=True)\n[nltk_data] Downloading package stopwords to\n[nltk_data]     /home/spark-6bd0eb82-af19-4f78-a215-8e/nltk_data...\n[nltk_data]   Package stopwords is already up-to-date!\n[nltk_data] Downloading package punkt to\n[nltk_data]     /home/spark-6bd0eb82-af19-4f78-a215-8e/nltk_data...\n[nltk_data]   Package punkt is already up-to-date!\n[nltk_data] Downloading package wordnet to\n[nltk_data]     /home/spark-6bd0eb82-af19-4f78-a215-8e/nltk_data...\n[nltk_data]   Package wordnet is already up-to-date!\n[nltk_data] Downloading package vader_lexicon to\n[nltk_data]     /home/spark-6bd0eb82-af19-4f78-a215-8e/nltk_data...\n[nltk_data]   Package vader_lexicon is already up-to-date!\n"
     ]
    }
   ],
   "source": [
    "%python\n",
    "def count_words_without_stopwords(text):\n",
    "    stop_words = set(stopwords.words('english'))\n",
    "    words = word_tokenize(text)\n",
    "    filtered_words = [word for word in words if word.lower() not in stop_words]\n",
    "    return len(filtered_words)\n",
    "\n",
    "def get_sentiment(text):\n",
    "    sid = SentimentIntensityAnalyzer()\n",
    "    sentiment_scores = sid.polarity_scores(text)\n",
    "    return sentiment_scores['compound'], sentiment_scores['compound']\n",
    "\n",
    "def full_content(url):\n",
    "    # Dummy implementation for the full_content function\n",
    "    return \"This is a dummy content for the URL.\"\n",
    "\n",
    "def extract_transform_function():\n",
    "    today = date.today()                        \n",
    "    yesterday = today - timedelta(days=1)     \n",
    "    day_before_yesterday = today - timedelta(days=2)   \n",
    "    \n",
    "    # Initialize the News API client with an API key\n",
    "    newsapi = NewsApiClient(api_key='ff4373852c2343a98303951439854f8c')\n",
    "\n",
    "    top_headlines = newsapi.get_top_headlines(category='entertainment',language='en',page_size=90,page=1)\n",
    "\n",
    "    articles = top_headlines.get('articles', [])  # Extract articles from the API response\n",
    "\n",
    "    # Creating DF from the articles, selecting specific columns\n",
    "    init_df = pd.DataFrame(articles, columns=['source', 'title', 'publishedAt', 'author', 'url'])\n",
    "\n",
    "    init_df['source'] = init_df['source'].apply(lambda x: x['name'] if pd.notna(x) and 'name' in x else None)\n",
    "\n",
    "    init_df['publishedAt'] = pd.to_datetime(init_df['publishedAt'])\n",
    "    filtered_df = init_df[(init_df['publishedAt'].dt.date == day_before_yesterday) | \n",
    "                          (init_df['publishedAt'].dt.date == yesterday)]\n",
    "    filtered_df.rename(columns={'publishedAt': 'date_posted'}, inplace=True)\n",
    "    \n",
    "    df = filtered_df.copy()  # Copy of filtered DF\n",
    "\n",
    "    df['content'] = df['url'].apply(full_content)  # Apply the full_content function to each URL in the DataFrame\n",
    "    \n",
    "    df['content'] = df['content'].str.replace('\\n', ' ')  # Replace newlines in the 'content' column with spaces\n",
    "    \n",
    "    df = df[df['content'] != 'couldnt retrieve']  # Filter out rows where the content could not be retrieved\n",
    "\n",
    "    # Download the NLTK stopwords dataset and other required datasets\n",
    "    nltk.download('stopwords')\n",
    "    nltk.download('punkt')\n",
    "    nltk.download('wordnet')\n",
    "\n",
    "    # Apply the word count function to the 'content' column\n",
    "    df['word_count'] = df['content'].apply(count_words_without_stopwords)\n",
    "\n",
    "    \n",
    "    nltk.download('vader_lexicon')\n",
    "\n",
    "    \n",
    "    sid = SentimentIntensityAnalyzer()    # Initialize the SentimentIntensityAnalyzer\n",
    "\n",
    "    # Apply the sentiment analysis function to the 'content' column\n",
    "    df[['sentiment', 'compound_score']] = df['content'].astype(str).apply(lambda x: pd.Series(get_sentiment(x)))\n",
    "\n",
    "    \n",
    "\n",
    "    return df\n",
    "        \n",
    "dataframe = extract_transform_function()"
   ]
  },
  {
   "cell_type": "code",
   "execution_count": 0,
   "metadata": {
    "application/vnd.databricks.v1+cell": {
     "cellMetadata": {
      "byteLimit": 2048000,
      "rowLimit": 10000
     },
     "inputWidgets": {},
     "nuid": "3346d7a2-32bb-408c-96fa-7d51e30e8cda",
     "showTitle": false,
     "tableResultSettingsMap": {},
     "title": ""
    }
   },
   "outputs": [
    {
     "output_type": "stream",
     "name": "stderr",
     "output_type": "stream",
     "text": [
      "/home/spark-6bd0eb82-af19-4f78-a215-8e/.ipykernel/2700/command-658016692815243-3935443897:42: SettingWithCopyWarning: \nA value is trying to be set on a copy of a slice from a DataFrame\n\nSee the caveats in the documentation: https://pandas.pydata.org/pandas-docs/stable/user_guide/indexing.html#returning-a-view-versus-a-copy\n  filtered_df.rename(columns={'publishedAt': 'date_posted'}, inplace=True)\n[nltk_data] Downloading package stopwords to\n[nltk_data]     /home/spark-6bd0eb82-af19-4f78-a215-8e/nltk_data...\n[nltk_data]   Package stopwords is already up-to-date!\n[nltk_data] Downloading package punkt to\n[nltk_data]     /home/spark-6bd0eb82-af19-4f78-a215-8e/nltk_data...\n[nltk_data]   Package punkt is already up-to-date!\n[nltk_data] Downloading package wordnet to\n[nltk_data]     /home/spark-6bd0eb82-af19-4f78-a215-8e/nltk_data...\n[nltk_data]   Package wordnet is already up-to-date!\n[nltk_data] Downloading package vader_lexicon to\n[nltk_data]     /home/spark-6bd0eb82-af19-4f78-a215-8e/nltk_data...\n[nltk_data]   Package vader_lexicon is already up-to-date!\n"
     ]
    }
   ],
   "source": [
    "# Function to count words excluding stopwords\n",
    "def count_words_without_stopwords(text):\n",
    "    stop_words = set(stopwords.words('english'))\n",
    "    words = word_tokenize(text)\n",
    "    filtered_words = [word for word in words if word.lower() not in stop_words]\n",
    "    return len(filtered_words)\n",
    "\n",
    "# Function for sentiment analysis\n",
    "def get_sentiment(text):\n",
    "    sid = SentimentIntensityAnalyzer()\n",
    "    sentiment_scores = sid.polarity_scores(text)\n",
    "    return sentiment_scores['compound'], sentiment_scores['compound']\n",
    "\n",
    "def full_content(url):\n",
    "    # Dummy implementation for the full_content function\n",
    "    return \"This is a dummy content for the URL.\"\n",
    "\n",
    "# Data extraction and transformation\n",
    "def extract_transform_function():\n",
    "    today = date.today()                        \n",
    "    yesterday = today - timedelta(days=1)     \n",
    "    day_before_yesterday = today - timedelta(days=2)   \n",
    "    \n",
    "    # Initialize News API client\n",
    "    newsapi = NewsApiClient(api_key='ff4373852c2343a98303951439854f8c')\n",
    "\n",
    "    top_headlines = newsapi.get_top_headlines(category='entertainment', language='en', page_size=90, page=1)\n",
    "\n",
    "    articles = top_headlines.get('articles', [])  # Extract articles\n",
    "\n",
    "    # Convert articles to DataFrame\n",
    "    init_df = pd.DataFrame(articles, columns=['source', 'title', 'publishedAt', 'author', 'url'])\n",
    "\n",
    "    # Extract source name safely\n",
    "    init_df['source'] = init_df['source'].apply(lambda x: x['name'] if pd.notna(x) and 'name' in x else None)\n",
    "\n",
    "    # Convert 'publishedAt' to date format and filter\n",
    "    init_df['publishedAt'] = pd.to_datetime(init_df['publishedAt'])\n",
    "    filtered_df = init_df[(init_df['publishedAt'].dt.date == day_before_yesterday) | \n",
    "                          (init_df['publishedAt'].dt.date == yesterday)]\n",
    "    \n",
    "    filtered_df.rename(columns={'publishedAt': 'date_posted'}, inplace=True)\n",
    "    \n",
    "    df = filtered_df.copy()  # Copy DataFrame\n",
    "    df['content'] = df['url'].apply(full_content)  # Fetch article content\n",
    "    \n",
    "    # Clean text formatting\n",
    "    df['content'] = df['content'].str.replace('\\n', ' ')\n",
    "    \n",
    "    # Remove entries where content couldn't be retrieved\n",
    "    df = df[df['content'] != 'couldnt retrieve']\n",
    "\n",
    "    # Download required NLTK datasets\n",
    "    nltk.download('stopwords')\n",
    "    nltk.download('punkt')\n",
    "    nltk.download('wordnet')\n",
    "    nltk.download('vader_lexicon')\n",
    "\n",
    "    # Calculate word countl\n",
    "    df['word_count'] = df['content'].apply(count_words_without_stopwords)\n",
    "\n",
    "\n",
    "    # Perform sentiment analysis\n",
    "    df[['sentiment', 'compound_score']] = df['content'].astype(str).apply(lambda x: pd.Series(get_sentiment(x)))\n",
    "\n",
    "\n",
    "    return df\n",
    "\n",
    "# Extract transformed data\n",
    "dataframe = extract_transform_function()\n"
   ]
  },
  {
   "cell_type": "code",
   "execution_count": 0,
   "metadata": {
    "application/vnd.databricks.v1+cell": {
     "cellMetadata": {
      "byteLimit": 2048000,
      "rowLimit": 10000
     },
     "inputWidgets": {},
     "nuid": "fdd4dd31-af69-4934-8239-a73d09683ed2",
     "showTitle": false,
     "tableResultSettingsMap": {},
     "title": ""
    }
   },
   "outputs": [
    {
     "output_type": "display_data",
     "data": {
      "text/html": [
       "<style scoped>\n",
       "  .table-result-container {\n",
       "    max-height: 300px;\n",
       "    overflow: auto;\n",
       "  }\n",
       "  table, th, td {\n",
       "    border: 1px solid black;\n",
       "    border-collapse: collapse;\n",
       "  }\n",
       "  th, td {\n",
       "    padding: 5px;\n",
       "  }\n",
       "  th {\n",
       "    text-align: left;\n",
       "  }\n",
       "</style><div class='table-result-container'><table class='table-result'><thead style='background-color: white'><tr><th>source</th><th>title</th><th>date_posted</th><th>author</th><th>url</th><th>content</th><th>word_count</th><th>sentiment</th><th>compound_score</th></tr></thead><tbody><tr><td>Hindustan Times</td><td>Kanye West poses with Bianca Censori in Spain amid shocking cousin incest confession - Hindustan Times</td><td>2025-04-22T03:34:42.000Z</td><td>Tuhin Das Mahapatra</td><td>https://www.hindustantimes.com/entertainment/music/kanye-west-poses-with-bianca-censori-in-spain-amid-shocking-cousin-incest-confession-101745289793575.html</td><td>This is a dummy content for the URL.</td><td>4</td><td>0.0</td><td>0.0</td></tr><tr><td>Variety</td><td>Larry David Spoofs Bill Maher's Trump Visit With Adolf Hitler Essay - Variety</td><td>2025-04-22T01:07:00.000Z</td><td>Jack Dunn</td><td>https://variety.com/2025/tv/news/larry-david-bill-maher-donald-trump-dinner-with-adolf-essay-1236374517/</td><td>This is a dummy content for the URL.</td><td>4</td><td>0.0</td><td>0.0</td></tr><tr><td>Cageside Seats</td><td>Becky Lynch turns heel after losing tag team titles one night after winning them - Cageside Seats</td><td>2025-04-22T00:55:31.000Z</td><td>Geno Mrosko</td><td>https://www.cagesideseats.com/wwe/2025/4/21/24413591/becky-lynch-turns-heel-raw-after-mania-lyra-valkyria-liv-morgan-raquel-rodriguez</td><td>This is a dummy content for the URL.</td><td>4</td><td>0.0</td><td>0.0</td></tr><tr><td>The Cut</td><td>George and Amal Clooney Never Fight, Apparently - The Cut</td><td>2025-04-22T00:45:04.000Z</td><td>Elizabeth Gulino</td><td>http://www.thecut.com/article/george-amal-clooney-relationship-never-fight.html</td><td>This is a dummy content for the URL.</td><td>4</td><td>0.0</td><td>0.0</td></tr><tr><td>Cageside Seats</td><td>It looks like Randy Orton is next for WWE Champion John Cena - Cageside Seats</td><td>2025-04-22T00:24:47.000Z</td><td>Geno Mrosko</td><td>https://www.cagesideseats.com/wwe/2025/4/21/24413572/wwe-raw-after-mania-wwe-champion-john-cena-randy-orton</td><td>This is a dummy content for the URL.</td><td>4</td><td>0.0</td><td>0.0</td></tr><tr><td>The Washington Post</td><td>‘Andor’ and ‘Revenge of the Sith’: Two Star Wars tales about rebels and dictators - The Washington Post</td><td>2025-04-22T00:02:58.000Z</td><td>Herb Scribner</td><td>https://www.washingtonpost.com/entertainment/tv/2025/04/21/star-wars-andor-revenge-of-the-sith-resistance/</td><td>This is a dummy content for the URL.</td><td>4</td><td>0.0</td><td>0.0</td></tr><tr><td>Vulture</td><td>Ready or Not 2 Books a Vampire Slayer and Citizen Detective - Vulture</td><td>2025-04-21T23:43:09.000Z</td><td>Alejandra Gularte</td><td>http://www.vulture.com/article/ready-or-not-2-cast-trailer-release-date.html</td><td>This is a dummy content for the URL.</td><td>4</td><td>0.0</td><td>0.0</td></tr><tr><td>Wrestling Inc.</td><td>Backstage Details On TNA World Champion Joe Hendry's WWE WrestleMania 41 Appearance - Wrestling Inc.</td><td>2025-04-21T23:03:48.000Z</td><td>Ross W Berman IV</td><td>https://www.wrestlinginc.com/1840382/backstage-details-tna-world-champion-joe-hendry-wwe-wrestlemania-41-appearance/</td><td>This is a dummy content for the URL.</td><td>4</td><td>0.0</td><td>0.0</td></tr><tr><td>New York Post</td><td>Here’s how to watch ‘Conclave’ for free following Pope Francis’ death - New York Post</td><td>2025-04-21T20:30:00.000Z</td><td>Angela Tricarico</td><td>https://nypost.com/2025/04/21/entertainment/how-to-watch-conclave-for-free-after-pope-francis-death/</td><td>This is a dummy content for the URL.</td><td>4</td><td>0.0</td><td>0.0</td></tr><tr><td>Space.com</td><td>'The Fantastic Four: First Steps' trailer shown at CinemaCon now arrives for us all (video) - Space</td><td>2025-04-21T19:00:00.000Z</td><td>Jeff Spry</td><td>https://www.space.com/entertainment/the-fantastic-four-first-steps-trailer-shown-at-cinemacon-now-arrives-for-us-all-video</td><td>This is a dummy content for the URL.</td><td>4</td><td>0.0</td><td>0.0</td></tr><tr><td>Defector.com</td><td>WrestleMania 41’s Two Main Events And The Risks Of Getting Epic - Defector</td><td>2025-04-21T18:01:00.000Z</td><td>null</td><td>https://defector.com/wrestlemania-41s-two-main-events-and-the-risks-of-getting-epic</td><td>This is a dummy content for the URL.</td><td>4</td><td>0.0</td><td>0.0</td></tr><tr><td>Deadline</td><td>'Sinners' Star Michael B. Jordan On Another Hit With Ryan Coogler - Deadline</td><td>2025-04-21T17:43:00.000Z</td><td>Mike Fleming Jr</td><td>http://deadline.com/2025/04/sinners-michael-b-jordan-fully-fleshed-twin-breaking-off-pieces-of-his-past-fuels-another-ryan-coogler-triumph-1236372960/</td><td>This is a dummy content for the URL.</td><td>4</td><td>0.0</td><td>0.0</td></tr><tr><td>Futurism</td><td>Katy Perry Now Feeling Regrets Over Jeff Bezos Rocket Ride - futurism.com</td><td>2025-04-21T15:25:40.000Z</td><td>Victor Tangermann</td><td>https://futurism.com/katy-perry-regret-jeff-bezos-rocket-ride</td><td>This is a dummy content for the URL.</td><td>4</td><td>0.0</td><td>0.0</td></tr><tr><td>PEOPLE</td><td>Travel Influencer Dies at 28 After Being Diagnosed with Severe Liver Damage and Pneumonia - AOL.com</td><td>2025-04-21T15:10:07.000Z</td><td>Zoey Lyttle</td><td>https://people.com/travel-influencer-dies-at-28-after-being-diagnosed-with-severe-liver-damage-11718753</td><td>This is a dummy content for the URL.</td><td>4</td><td>0.0</td><td>0.0</td></tr><tr><td>Rolling Stone</td><td>Pedro Pascal Says He’s in ‘Active Denial’ After ‘The Last of Us’ Twist - Rolling Stone</td><td>2025-04-21T14:33:24.000Z</td><td>Brittany Spanos</td><td>http://www.rollingstone.com/tv-movies/tv-movie-news/pedro-pascal-in-active-denial-after-the-last-of-us-twist-1235321720/</td><td>This is a dummy content for the URL.</td><td>4</td><td>0.0</td><td>0.0</td></tr><tr><td>CNN</td><td>Billy Ray Cyrus and Elizabeth Hurley appear to make their relationship Instagram official - CNN</td><td>2025-04-21T13:41:00.000Z</td><td>Lisa Respers France</td><td>https://www.cnn.com/2025/04/21/entertainment/billy-ray-cyrus-elizabeth-hurley/index.html</td><td>This is a dummy content for the URL.</td><td>4</td><td>0.0</td><td>0.0</td></tr><tr><td>syracuse.com</td><td>Syracuse’s biggest concerts of all time: How 47,500 Metallica fans set a new record - Syracuse.com</td><td>2025-04-21T13:31:00.000Z</td><td>Geoff Herbert | gherbert@syracuse.com</td><td>https://www.syracuse.com/entertainment/2025/04/syracuses-biggest-concerts-of-all-time-how-47500-metallica-fans-set-a-new-record.html</td><td>This is a dummy content for the URL.</td><td>4</td><td>0.0</td><td>0.0</td></tr><tr><td>Cageside Seats</td><td>WWE Raw preview (Apr. 21, 2025): John Cena’s heel turn sucks - Cageside Seats</td><td>2025-04-21T13:00:00.000Z</td><td>Cain A. Knight</td><td>https://www.cagesideseats.com/wwe/2025/4/21/24412891/wwe-raw-after-wrestlemania-preview-apr-21-2025-john-cena-bad-heel-turn-new-champion-ruin-wrestling</td><td>This is a dummy content for the URL.</td><td>4</td><td>0.0</td><td>0.0</td></tr><tr><td>Yahoo Entertainment</td><td>WWE WrestleMania 41, Night 2 results: John Cena beats Cody Rhodes in lackluster headliner; The Rock no-shows - Yahoo Sports</td><td>2025-04-21T12:44:40.000Z</td><td>Anthony Sulla-Heffinger</td><td>https://sports.yahoo.com/wrestling/live/wwe-wrestlemania-41-night-2-results-john-cena-beats-cody-rhodes-in-lackluster-headliner-the-rock-no-shows-080034722.html</td><td>This is a dummy content for the URL.</td><td>4</td><td>0.0</td><td>0.0</td></tr></tbody></table></div>"
      ]
     },
     "metadata": {
      "application/vnd.databricks.v1+output": {
       "addedWidgets": {},
       "aggData": [],
       "aggError": "",
       "aggOverflow": false,
       "aggSchema": [],
       "aggSeriesLimitReached": false,
       "aggType": "",
       "arguments": {},
       "columnCustomDisplayInfos": {},
       "data": [
        [
         "Hindustan Times",
         "Kanye West poses with Bianca Censori in Spain amid shocking cousin incest confession - Hindustan Times",
         "2025-04-22T03:34:42.000Z",
         "Tuhin Das Mahapatra",
         "https://www.hindustantimes.com/entertainment/music/kanye-west-poses-with-bianca-censori-in-spain-amid-shocking-cousin-incest-confession-101745289793575.html",
         "This is a dummy content for the URL.",
         4,
         0.0,
         0.0
        ],
        [
         "Variety",
         "Larry David Spoofs Bill Maher's Trump Visit With Adolf Hitler Essay - Variety",
         "2025-04-22T01:07:00.000Z",
         "Jack Dunn",
         "https://variety.com/2025/tv/news/larry-david-bill-maher-donald-trump-dinner-with-adolf-essay-1236374517/",
         "This is a dummy content for the URL.",
         4,
         0.0,
         0.0
        ],
        [
         "Cageside Seats",
         "Becky Lynch turns heel after losing tag team titles one night after winning them - Cageside Seats",
         "2025-04-22T00:55:31.000Z",
         "Geno Mrosko",
         "https://www.cagesideseats.com/wwe/2025/4/21/24413591/becky-lynch-turns-heel-raw-after-mania-lyra-valkyria-liv-morgan-raquel-rodriguez",
         "This is a dummy content for the URL.",
         4,
         0.0,
         0.0
        ],
        [
         "The Cut",
         "George and Amal Clooney Never Fight, Apparently - The Cut",
         "2025-04-22T00:45:04.000Z",
         "Elizabeth Gulino",
         "http://www.thecut.com/article/george-amal-clooney-relationship-never-fight.html",
         "This is a dummy content for the URL.",
         4,
         0.0,
         0.0
        ],
        [
         "Cageside Seats",
         "It looks like Randy Orton is next for WWE Champion John Cena - Cageside Seats",
         "2025-04-22T00:24:47.000Z",
         "Geno Mrosko",
         "https://www.cagesideseats.com/wwe/2025/4/21/24413572/wwe-raw-after-mania-wwe-champion-john-cena-randy-orton",
         "This is a dummy content for the URL.",
         4,
         0.0,
         0.0
        ],
        [
         "The Washington Post",
         "‘Andor’ and ‘Revenge of the Sith’: Two Star Wars tales about rebels and dictators - The Washington Post",
         "2025-04-22T00:02:58.000Z",
         "Herb Scribner",
         "https://www.washingtonpost.com/entertainment/tv/2025/04/21/star-wars-andor-revenge-of-the-sith-resistance/",
         "This is a dummy content for the URL.",
         4,
         0.0,
         0.0
        ],
        [
         "Vulture",
         "Ready or Not 2 Books a Vampire Slayer and Citizen Detective - Vulture",
         "2025-04-21T23:43:09.000Z",
         "Alejandra Gularte",
         "http://www.vulture.com/article/ready-or-not-2-cast-trailer-release-date.html",
         "This is a dummy content for the URL.",
         4,
         0.0,
         0.0
        ],
        [
         "Wrestling Inc.",
         "Backstage Details On TNA World Champion Joe Hendry's WWE WrestleMania 41 Appearance - Wrestling Inc.",
         "2025-04-21T23:03:48.000Z",
         "Ross W Berman IV",
         "https://www.wrestlinginc.com/1840382/backstage-details-tna-world-champion-joe-hendry-wwe-wrestlemania-41-appearance/",
         "This is a dummy content for the URL.",
         4,
         0.0,
         0.0
        ],
        [
         "New York Post",
         "Here’s how to watch ‘Conclave’ for free following Pope Francis’ death - New York Post",
         "2025-04-21T20:30:00.000Z",
         "Angela Tricarico",
         "https://nypost.com/2025/04/21/entertainment/how-to-watch-conclave-for-free-after-pope-francis-death/",
         "This is a dummy content for the URL.",
         4,
         0.0,
         0.0
        ],
        [
         "Space.com",
         "'The Fantastic Four: First Steps' trailer shown at CinemaCon now arrives for us all (video) - Space",
         "2025-04-21T19:00:00.000Z",
         "Jeff Spry",
         "https://www.space.com/entertainment/the-fantastic-four-first-steps-trailer-shown-at-cinemacon-now-arrives-for-us-all-video",
         "This is a dummy content for the URL.",
         4,
         0.0,
         0.0
        ],
        [
         "Defector.com",
         "WrestleMania 41’s Two Main Events And The Risks Of Getting Epic - Defector",
         "2025-04-21T18:01:00.000Z",
         null,
         "https://defector.com/wrestlemania-41s-two-main-events-and-the-risks-of-getting-epic",
         "This is a dummy content for the URL.",
         4,
         0.0,
         0.0
        ],
        [
         "Deadline",
         "'Sinners' Star Michael B. Jordan On Another Hit With Ryan Coogler - Deadline",
         "2025-04-21T17:43:00.000Z",
         "Mike Fleming Jr",
         "http://deadline.com/2025/04/sinners-michael-b-jordan-fully-fleshed-twin-breaking-off-pieces-of-his-past-fuels-another-ryan-coogler-triumph-1236372960/",
         "This is a dummy content for the URL.",
         4,
         0.0,
         0.0
        ],
        [
         "Futurism",
         "Katy Perry Now Feeling Regrets Over Jeff Bezos Rocket Ride - futurism.com",
         "2025-04-21T15:25:40.000Z",
         "Victor Tangermann",
         "https://futurism.com/katy-perry-regret-jeff-bezos-rocket-ride",
         "This is a dummy content for the URL.",
         4,
         0.0,
         0.0
        ],
        [
         "PEOPLE",
         "Travel Influencer Dies at 28 After Being Diagnosed with Severe Liver Damage and Pneumonia - AOL.com",
         "2025-04-21T15:10:07.000Z",
         "Zoey Lyttle",
         "https://people.com/travel-influencer-dies-at-28-after-being-diagnosed-with-severe-liver-damage-11718753",
         "This is a dummy content for the URL.",
         4,
         0.0,
         0.0
        ],
        [
         "Rolling Stone",
         "Pedro Pascal Says He’s in ‘Active Denial’ After ‘The Last of Us’ Twist - Rolling Stone",
         "2025-04-21T14:33:24.000Z",
         "Brittany Spanos",
         "http://www.rollingstone.com/tv-movies/tv-movie-news/pedro-pascal-in-active-denial-after-the-last-of-us-twist-1235321720/",
         "This is a dummy content for the URL.",
         4,
         0.0,
         0.0
        ],
        [
         "CNN",
         "Billy Ray Cyrus and Elizabeth Hurley appear to make their relationship Instagram official - CNN",
         "2025-04-21T13:41:00.000Z",
         "Lisa Respers France",
         "https://www.cnn.com/2025/04/21/entertainment/billy-ray-cyrus-elizabeth-hurley/index.html",
         "This is a dummy content for the URL.",
         4,
         0.0,
         0.0
        ],
        [
         "syracuse.com",
         "Syracuse’s biggest concerts of all time: How 47,500 Metallica fans set a new record - Syracuse.com",
         "2025-04-21T13:31:00.000Z",
         "Geoff Herbert | gherbert@syracuse.com",
         "https://www.syracuse.com/entertainment/2025/04/syracuses-biggest-concerts-of-all-time-how-47500-metallica-fans-set-a-new-record.html",
         "This is a dummy content for the URL.",
         4,
         0.0,
         0.0
        ],
        [
         "Cageside Seats",
         "WWE Raw preview (Apr. 21, 2025): John Cena’s heel turn sucks - Cageside Seats",
         "2025-04-21T13:00:00.000Z",
         "Cain A. Knight",
         "https://www.cagesideseats.com/wwe/2025/4/21/24412891/wwe-raw-after-wrestlemania-preview-apr-21-2025-john-cena-bad-heel-turn-new-champion-ruin-wrestling",
         "This is a dummy content for the URL.",
         4,
         0.0,
         0.0
        ],
        [
         "Yahoo Entertainment",
         "WWE WrestleMania 41, Night 2 results: John Cena beats Cody Rhodes in lackluster headliner; The Rock no-shows - Yahoo Sports",
         "2025-04-21T12:44:40.000Z",
         "Anthony Sulla-Heffinger",
         "https://sports.yahoo.com/wrestling/live/wwe-wrestlemania-41-night-2-results-john-cena-beats-cody-rhodes-in-lackluster-headliner-the-rock-no-shows-080034722.html",
         "This is a dummy content for the URL.",
         4,
         0.0,
         0.0
        ]
       ],
       "datasetInfos": [],
       "dbfsResultPath": null,
       "isJsonSchema": true,
       "metadata": {},
       "overflow": false,
       "plotOptions": {
        "customPlotOptions": {},
        "displayType": "table",
        "pivotAggregation": null,
        "pivotColumns": null,
        "xColumns": null,
        "yColumns": null
       },
       "removedWidgets": [],
       "schema": [
        {
         "metadata": "{}",
         "name": "source",
         "type": "\"string\""
        },
        {
         "metadata": "{}",
         "name": "title",
         "type": "\"string\""
        },
        {
         "metadata": "{}",
         "name": "date_posted",
         "type": "\"timestamp\""
        },
        {
         "metadata": "{}",
         "name": "author",
         "type": "\"string\""
        },
        {
         "metadata": "{}",
         "name": "url",
         "type": "\"string\""
        },
        {
         "metadata": "{}",
         "name": "content",
         "type": "\"string\""
        },
        {
         "metadata": "{}",
         "name": "word_count",
         "type": "\"long\""
        },
        {
         "metadata": "{}",
         "name": "sentiment",
         "type": "\"double\""
        },
        {
         "metadata": "{}",
         "name": "compound_score",
         "type": "\"double\""
        }
       ],
       "type": "table"
      }
     },
     "output_type": "display_data"
    }
   ],
   "source": [
    "dataframe.display()"
   ]
  },
  {
   "cell_type": "code",
   "execution_count": 0,
   "metadata": {
    "application/vnd.databricks.v1+cell": {
     "cellMetadata": {
      "byteLimit": 2048000,
      "rowLimit": 10000
     },
     "inputWidgets": {},
     "nuid": "1d4ef9c8-81c4-4aeb-ae0b-a0d56ebaaf28",
     "showTitle": false,
     "tableResultSettingsMap": {},
     "title": ""
    }
   },
   "outputs": [
    {
     "output_type": "stream",
     "name": "stdout",
     "output_type": "stream",
     "text": [
      "source                         object\ntitle                          object\ndate_posted       datetime64[ns, UTC]\nauthor                         object\nurl                            object\ncontent                        object\nword_count                      int64\nsentiment                     float64\ncompound_score                float64\ndtype: object\n"
     ]
    }
   ],
   "source": [
    "print(dataframe.dtypes)"
   ]
  },
  {
   "cell_type": "code",
   "execution_count": 0,
   "metadata": {
    "application/vnd.databricks.v1+cell": {
     "cellMetadata": {
      "byteLimit": 2048000,
      "implicitDf": true,
      "rowLimit": 10000
     },
     "inputWidgets": {},
     "nuid": "96d77b36-dd26-46ab-b376-dff7d2af1e00",
     "showTitle": false,
     "tableResultSettingsMap": {},
     "title": ""
    }
   },
   "outputs": [],
   "source": [
    "%sql\n",
    "CREATE DATABASE IF NOT EXISTS the_news;\n",
    "CREATE TABLE IF NOT EXISTS the_news.news_table (\n",
    "source STRING,\n",
    "title STRING,\n",
    "date_posted DATE,\n",
    "author STRING,\n",
    "url STRING,\n",
    "content STRING,\n",
    "word_count INT,\n",
    "sentiment STRING,\n",
    "compound_score DOUBLE\n",
    ")"
   ]
  },
  {
   "cell_type": "code",
   "execution_count": 0,
   "metadata": {
    "application/vnd.databricks.v1+cell": {
     "cellMetadata": {
      "byteLimit": 2048000,
      "implicitDf": true,
      "rowLimit": 10000
     },
     "inputWidgets": {},
     "nuid": "c205cd27-feaa-4c88-87fb-4c7a9cc79005",
     "showTitle": false,
     "tableResultSettingsMap": {},
     "title": ""
    }
   },
   "outputs": [
    {
     "output_type": "display_data",
     "data": {
      "text/html": [
       "<style scoped>\n",
       "  .table-result-container {\n",
       "    max-height: 300px;\n",
       "    overflow: auto;\n",
       "  }\n",
       "  table, th, td {\n",
       "    border: 1px solid black;\n",
       "    border-collapse: collapse;\n",
       "  }\n",
       "  th, td {\n",
       "    padding: 5px;\n",
       "  }\n",
       "  th {\n",
       "    text-align: left;\n",
       "  }\n",
       "</style><div class='table-result-container'><table class='table-result'><thead style='background-color: white'><tr><th>col_name</th><th>data_type</th><th>comment</th></tr></thead><tbody><tr><td>source</td><td>string</td><td>null</td></tr><tr><td>title</td><td>string</td><td>null</td></tr><tr><td>date_posted</td><td>date</td><td>null</td></tr><tr><td>author</td><td>string</td><td>null</td></tr><tr><td>url</td><td>string</td><td>null</td></tr><tr><td>content</td><td>string</td><td>null</td></tr><tr><td>word_count</td><td>int</td><td>null</td></tr><tr><td>sentiment</td><td>string</td><td>null</td></tr><tr><td>compound_score</td><td>double</td><td>null</td></tr><tr><td></td><td></td><td></td></tr><tr><td># Delta Statistics Columns</td><td></td><td></td></tr><tr><td>Column Names</td><td>compound_score, author, source, url, sentiment, content, word_count, title, date_posted</td><td></td></tr><tr><td>Column Selection Method</td><td>first-32</td><td></td></tr><tr><td></td><td></td><td></td></tr><tr><td># Detailed Table Information</td><td></td><td></td></tr><tr><td>Catalog</td><td>workspace</td><td></td></tr><tr><td>Database</td><td>the_news</td><td></td></tr><tr><td>Table</td><td>news_table</td><td></td></tr><tr><td>Created Time</td><td>Wed Apr 23 04:43:59 UTC 2025</td><td></td></tr><tr><td>Last Access</td><td>UNKNOWN</td><td></td></tr><tr><td>Created By</td><td>Spark </td><td></td></tr><tr><td>Statistics</td><td>22086 bytes, 59 rows</td><td></td></tr><tr><td>Type</td><td>MANAGED</td><td></td></tr><tr><td>Location</td><td></td><td></td></tr><tr><td>Provider</td><td>delta</td><td></td></tr><tr><td>Owner</td><td>shraddhapoharkar58@gmail.com</td><td></td></tr><tr><td>Is_managed_location</td><td>true</td><td></td></tr><tr><td>Predictive Optimization</td><td>ENABLE (inherited from METASTORE metastore_aws_ap_southeast_2)</td><td></td></tr><tr><td>Table Properties</td><td>[delta.enableDeletionVectors=true,delta.feature.appendOnly=supported,delta.feature.deletionVectors=supported,delta.feature.invariants=supported,delta.minReaderVersion=3,delta.minWriterVersion=7]</td><td></td></tr></tbody></table></div>"
      ]
     },
     "metadata": {
      "application/vnd.databricks.v1+output": {
       "addedWidgets": {},
       "aggData": [],
       "aggError": "",
       "aggOverflow": false,
       "aggSchema": [],
       "aggSeriesLimitReached": false,
       "aggType": "",
       "arguments": {},
       "columnCustomDisplayInfos": {},
       "data": [
        [
         "source",
         "string",
         null
        ],
        [
         "title",
         "string",
         null
        ],
        [
         "date_posted",
         "date",
         null
        ],
        [
         "author",
         "string",
         null
        ],
        [
         "url",
         "string",
         null
        ],
        [
         "content",
         "string",
         null
        ],
        [
         "word_count",
         "int",
         null
        ],
        [
         "sentiment",
         "string",
         null
        ],
        [
         "compound_score",
         "double",
         null
        ],
        [
         "",
         "",
         ""
        ],
        [
         "# Delta Statistics Columns",
         "",
         ""
        ],
        [
         "Column Names",
         "compound_score, author, source, url, sentiment, content, word_count, title, date_posted",
         ""
        ],
        [
         "Column Selection Method",
         "first-32",
         ""
        ],
        [
         "",
         "",
         ""
        ],
        [
         "# Detailed Table Information",
         "",
         ""
        ],
        [
         "Catalog",
         "workspace",
         ""
        ],
        [
         "Database",
         "the_news",
         ""
        ],
        [
         "Table",
         "news_table",
         ""
        ],
        [
         "Created Time",
         "Wed Apr 23 04:43:59 UTC 2025",
         ""
        ],
        [
         "Last Access",
         "UNKNOWN",
         ""
        ],
        [
         "Created By",
         "Spark ",
         ""
        ],
        [
         "Statistics",
         "22086 bytes, 59 rows",
         ""
        ],
        [
         "Type",
         "MANAGED",
         ""
        ],
        [
         "Location",
         "",
         ""
        ],
        [
         "Provider",
         "delta",
         ""
        ],
        [
         "Owner",
         "shraddhapoharkar58@gmail.com",
         ""
        ],
        [
         "Is_managed_location",
         "true",
         ""
        ],
        [
         "Predictive Optimization",
         "ENABLE (inherited from METASTORE metastore_aws_ap_southeast_2)",
         ""
        ],
        [
         "Table Properties",
         "[delta.enableDeletionVectors=true,delta.feature.appendOnly=supported,delta.feature.deletionVectors=supported,delta.feature.invariants=supported,delta.minReaderVersion=3,delta.minWriterVersion=7]",
         ""
        ]
       ],
       "datasetInfos": [
        {
         "name": "_sqldf",
         "schema": {
          "fields": [
           {
            "metadata": {},
            "name": "col_name",
            "nullable": false,
            "type": "string"
           },
           {
            "metadata": {},
            "name": "data_type",
            "nullable": false,
            "type": "string"
           },
           {
            "metadata": {},
            "name": "comment",
            "nullable": true,
            "type": "string"
           }
          ],
          "type": "struct"
         },
         "tableIdentifier": null,
         "typeStr": "pyspark.sql.connect.dataframe.DataFrame"
        }
       ],
       "dbfsResultPath": null,
       "isJsonSchema": true,
       "metadata": {
        "createTempViewForImplicitDf": true,
        "dataframeName": "_sqldf",
        "executionCount": 198
       },
       "overflow": false,
       "plotOptions": {
        "customPlotOptions": {},
        "displayType": "table",
        "pivotAggregation": null,
        "pivotColumns": null,
        "xColumns": null,
        "yColumns": null
       },
       "removedWidgets": [],
       "schema": [
        {
         "metadata": "{}",
         "name": "col_name",
         "type": "\"string\""
        },
        {
         "metadata": "{}",
         "name": "data_type",
         "type": "\"string\""
        },
        {
         "metadata": "{}",
         "name": "comment",
         "type": "\"string\""
        }
       ],
       "type": "table"
      }
     },
     "output_type": "display_data"
    }
   ],
   "source": [
    "%sql DESCRIBE FORMATTED the_news.news_table;\n"
   ]
  },
  {
   "cell_type": "code",
   "execution_count": 0,
   "metadata": {
    "application/vnd.databricks.v1+cell": {
     "cellMetadata": {
      "byteLimit": 2048000,
      "rowLimit": 10000
     },
     "inputWidgets": {},
     "nuid": "10097129-aef7-424d-ae38-ec5c359a7459",
     "showTitle": false,
     "tableResultSettingsMap": {},
     "title": ""
    }
   },
   "outputs": [],
   "source": [
    "from pyspark.sql import SparkSession\n",
    "from pyspark.sql.types import StructType, StructField, StringType, DateType, IntegerType, DoubleType\n",
    "\n",
    "# Initialize Spark session\n",
    "spark = SparkSession.builder.appName(\"CreateTableExample\").getOrCreate()\n",
    "\n",
    "# Convert sentiment to string for Spark compatibility\n",
    "dataframe['sentiment'] = dataframe['sentiment'].fillna('').astype(str)\n",
    "\n",
    "# Define schema explicitly\n",
    "schema = StructType([\n",
    "    StructField(\"source\", StringType(), True),\n",
    "    StructField(\"title\", StringType(), True),\n",
    "    StructField(\"date_posted\", DateType(), True), \n",
    "    StructField(\"author\", StringType(), True),\n",
    "    StructField(\"url\", StringType(), True),\n",
    "    StructField(\"content\", StringType(), True),\n",
    "    StructField(\"word_count\", IntegerType(), True),\n",
    "    StructField(\"sentiment\", StringType(), True),\n",
    "    StructField(\"compound_score\", DoubleType(), True)\n",
    "])\n",
    "\n",
    "# Convert Pandas DataFrame to Spark DataFrame\n",
    "spark_df = spark.createDataFrame(dataframe, schema=schema)\n",
    "\n",
    "spark_df.write.mode('append').saveAsTable('the_news.news_table')\n"
   ]
  },
  {
   "cell_type": "code",
   "execution_count": 0,
   "metadata": {
    "application/vnd.databricks.v1+cell": {
     "cellMetadata": {
      "byteLimit": 2048000,
      "implicitDf": true,
      "rowLimit": 10000
     },
     "inputWidgets": {},
     "nuid": "d2e62179-9911-4115-bbcc-efabe186ce7f",
     "showTitle": false,
     "tableResultSettingsMap": {},
     "title": ""
    }
   },
   "outputs": [
    {
     "output_type": "display_data",
     "data": {
      "text/html": [
       "<style scoped>\n",
       "  .table-result-container {\n",
       "    max-height: 300px;\n",
       "    overflow: auto;\n",
       "  }\n",
       "  table, th, td {\n",
       "    border: 1px solid black;\n",
       "    border-collapse: collapse;\n",
       "  }\n",
       "  th, td {\n",
       "    padding: 5px;\n",
       "  }\n",
       "  th {\n",
       "    text-align: left;\n",
       "  }\n",
       "</style><div class='table-result-container'><table class='table-result'><thead style='background-color: white'><tr><th>source</th><th>title</th><th>date_posted</th><th>author</th><th>url</th><th>content</th><th>word_count</th><th>sentiment</th><th>compound_score</th></tr></thead><tbody><tr><td>Hindustan Times</td><td>Kanye West poses with Bianca Censori in Spain amid shocking cousin incest confession - Hindustan Times</td><td>2025-04-22</td><td>Tuhin Das Mahapatra</td><td>https://www.hindustantimes.com/entertainment/music/kanye-west-poses-with-bianca-censori-in-spain-amid-shocking-cousin-incest-confession-101745289793575.html</td><td>This is a dummy content for the URL.</td><td>4</td><td>0.0</td><td>0.0</td></tr><tr><td>Deadline</td><td>Miro & CJ Barnyashev Return To WWE In New Deal As Pair Makes Surprise Appearance At Monday Night Raw - Deadline</td><td>2025-04-22</td><td>Rosy Cordero</td><td>http://deadline.com/2025/04/miro-barnyashev-wwe-deal-1236373427/</td><td>This is a dummy content for the URL.</td><td>4</td><td>0.0</td><td>0.0</td></tr><tr><td>Cageside Seats</td><td>Becky Lynch turns heel after losing tag team titles one night after winning them - Cageside Seats</td><td>2025-04-22</td><td>Geno Mrosko</td><td>https://www.cagesideseats.com/wwe/2025/4/21/24413591/becky-lynch-turns-heel-raw-after-mania-lyra-valkyria-liv-morgan-raquel-rodriguez</td><td>This is a dummy content for the URL.</td><td>4</td><td>0.0</td><td>0.0</td></tr><tr><td>The Cut</td><td>George and Amal Clooney Never Fight, Apparently - The Cut</td><td>2025-04-22</td><td>Elizabeth Gulino</td><td>http://www.thecut.com/article/george-amal-clooney-relationship-never-fight.html</td><td>This is a dummy content for the URL.</td><td>4</td><td>0.0</td><td>0.0</td></tr><tr><td>The Washington Post</td><td>‘Andor’ and ‘Revenge of the Sith’: Two Star Wars tales about rebels and dictators - The Washington Post</td><td>2025-04-22</td><td>Herb Scribner</td><td>https://www.washingtonpost.com/entertainment/tv/2025/04/21/star-wars-andor-revenge-of-the-sith-resistance/</td><td>This is a dummy content for the URL.</td><td>4</td><td>0.0</td><td>0.0</td></tr><tr><td>TVLine</td><td>New Star Wars Series in the Works From Lost EP Carlton Cuse - TVLine</td><td>2025-04-21</td><td>Dave Nemetz</td><td>https://tvline.com/news/star-wars-tv-show-carlton-cuse-1235438425/</td><td>This is a dummy content for the URL.</td><td>4</td><td>0.0</td><td>0.0</td></tr><tr><td>Wrestling Inc.</td><td>Backstage Details On TNA World Champion Joe Hendry's WWE WrestleMania 41 Appearance - Wrestling Inc.</td><td>2025-04-21</td><td>Ross W Berman IV</td><td>https://www.wrestlinginc.com/1840382/backstage-details-tna-world-champion-joe-hendry-wwe-wrestlemania-41-appearance/</td><td>This is a dummy content for the URL.</td><td>4</td><td>0.0</td><td>0.0</td></tr><tr><td>KTLA Los Angeles</td><td>Coachella hip-hop act draws fire for anti-Israel message - KTLA</td><td>2025-04-21</td><td>Marc Sternfield</td><td>https://ktla.com/news/california/coachella-hip-hop-act-draws-fire-for-anti-israel-message/</td><td>This is a dummy content for the URL.</td><td>4</td><td>0.0</td><td>0.0</td></tr><tr><td>OK!</td><td>Recluse Rob Kardashian Makes Rare Appearance at Sister Kim's Easter Celebration: Photos - okmagazine.com</td><td>2025-04-21</td><td>Jaclyn Roth</td><td>https://okmagazine.com/p/recluse-rob-kardashian-rare-appearance-sister-kim-easter/</td><td>This is a dummy content for the URL.</td><td>4</td><td>0.0</td><td>0.0</td></tr><tr><td>New York Post</td><td>Here’s how to watch ‘Conclave’ for free following Pope Francis’ death - New York Post</td><td>2025-04-21</td><td>Angela Tricarico</td><td>https://nypost.com/2025/04/21/entertainment/how-to-watch-conclave-for-free-after-pope-francis-death/</td><td>This is a dummy content for the URL.</td><td>4</td><td>0.0</td><td>0.0</td></tr><tr><td>Space.com</td><td>'The Fantastic Four: First Steps' trailer shown at CinemaCon now arrives for us all (video) - Space</td><td>2025-04-21</td><td>Jeff Spry</td><td>https://www.space.com/entertainment/the-fantastic-four-first-steps-trailer-shown-at-cinemacon-now-arrives-for-us-all-video</td><td>This is a dummy content for the URL.</td><td>4</td><td>0.0</td><td>0.0</td></tr><tr><td>Hollywood Reporter</td><td>‘Ready or Not’ Sequel Enlists Sarah Michelle Gellar, Elijah Wood - The Hollywood Reporter</td><td>2025-04-21</td><td>Mia Galuppo</td><td>http://www.hollywoodreporter.com/movies/movie-news/ready-or-not-here-i-come-sarah-michelle-gellar-elijah-wood-1236196758/</td><td>This is a dummy content for the URL.</td><td>4</td><td>0.0</td><td>0.0</td></tr><tr><td>Defector.com</td><td>WrestleMania 41’s Two Main Events And The Risks Of Getting Epic - Defector</td><td>2025-04-21</td><td>null</td><td>https://defector.com/wrestlemania-41s-two-main-events-and-the-risks-of-getting-epic</td><td>This is a dummy content for the URL.</td><td>4</td><td>0.0</td><td>0.0</td></tr><tr><td>Deadline</td><td>'Sinners' Star Michael B. Jordan On Another Hit With Ryan Coogler - Deadline</td><td>2025-04-21</td><td>Mike Fleming Jr</td><td>http://deadline.com/2025/04/sinners-michael-b-jordan-fully-fleshed-twin-breaking-off-pieces-of-his-past-fuels-another-ryan-coogler-triumph-1236372960/</td><td>This is a dummy content for the URL.</td><td>4</td><td>0.0</td><td>0.0</td></tr><tr><td>Futurism</td><td>Katy Perry Now Feeling Regrets Over Jeff Bezos Rocket Ride - futurism.com</td><td>2025-04-21</td><td>Victor Tangermann</td><td>https://futurism.com/katy-perry-regret-jeff-bezos-rocket-ride</td><td>This is a dummy content for the URL.</td><td>4</td><td>0.0</td><td>0.0</td></tr><tr><td>PEOPLE</td><td>Travel Influencer Dies at 28 After Being Diagnosed with Severe Liver Damage and Pneumonia - AOL.com</td><td>2025-04-21</td><td>Zoey Lyttle</td><td>https://people.com/travel-influencer-dies-at-28-after-being-diagnosed-with-severe-liver-damage-11718753</td><td>This is a dummy content for the URL.</td><td>4</td><td>0.0</td><td>0.0</td></tr><tr><td>Rolling Stone</td><td>Pedro Pascal Says He’s in ‘Active Denial’ After ‘The Last of Us’ Twist - Rolling Stone</td><td>2025-04-21</td><td>Brittany Spanos</td><td>http://www.rollingstone.com/tv-movies/tv-movie-news/pedro-pascal-in-active-denial-after-the-last-of-us-twist-1235321720/</td><td>This is a dummy content for the URL.</td><td>4</td><td>0.0</td><td>0.0</td></tr><tr><td>CNN</td><td>Billy Ray Cyrus and Elizabeth Hurley appear to make their relationship Instagram official - CNN</td><td>2025-04-21</td><td>Lisa Respers France</td><td>https://www.cnn.com/2025/04/21/entertainment/billy-ray-cyrus-elizabeth-hurley/index.html</td><td>This is a dummy content for the URL.</td><td>4</td><td>0.0</td><td>0.0</td></tr><tr><td>syracuse.com</td><td>Syracuse’s biggest concerts of all time: How 47,500 Metallica fans set a new record - Syracuse.com</td><td>2025-04-21</td><td>Geoff Herbert | gherbert@syracuse.com</td><td>https://www.syracuse.com/entertainment/2025/04/syracuses-biggest-concerts-of-all-time-how-47500-metallica-fans-set-a-new-record.html</td><td>This is a dummy content for the URL.</td><td>4</td><td>0.0</td><td>0.0</td></tr><tr><td>Cageside Seats</td><td>WWE Raw preview (Apr. 21, 2025): John Cena’s heel turn sucks - Cageside Seats</td><td>2025-04-21</td><td>Cain A. Knight</td><td>https://www.cagesideseats.com/wwe/2025/4/21/24412891/wwe-raw-after-wrestlemania-preview-apr-21-2025-john-cena-bad-heel-turn-new-champion-ruin-wrestling</td><td>This is a dummy content for the URL.</td><td>4</td><td>0.0</td><td>0.0</td></tr><tr><td>Yahoo Entertainment</td><td>WWE WrestleMania 41, Night 2 results: John Cena beats Cody Rhodes in lackluster headliner; The Rock no-shows - Yahoo Sports</td><td>2025-04-21</td><td>Anthony Sulla-Heffinger</td><td>https://sports.yahoo.com/wrestling/live/wwe-wrestlemania-41-night-2-results-john-cena-beats-cody-rhodes-in-lackluster-headliner-the-rock-no-shows-080034722.html</td><td>This is a dummy content for the URL.</td><td>4</td><td>0.0</td><td>0.0</td></tr><tr><td>Hindustan Times</td><td>Kanye West poses with Bianca Censori in Spain amid shocking cousin incest confession - Hindustan Times</td><td>2025-04-22</td><td>Tuhin Das Mahapatra</td><td>https://www.hindustantimes.com/entertainment/music/kanye-west-poses-with-bianca-censori-in-spain-amid-shocking-cousin-incest-confession-101745289793575.html</td><td>This is a dummy content for the URL.</td><td>4</td><td>0.0</td><td>0.0</td></tr><tr><td>Variety</td><td>Larry David Spoofs Bill Maher's Trump Visit With Adolf Hitler Essay - Variety</td><td>2025-04-22</td><td>Jack Dunn</td><td>https://variety.com/2025/tv/news/larry-david-bill-maher-donald-trump-dinner-with-adolf-essay-1236374517/</td><td>This is a dummy content for the URL.</td><td>4</td><td>0.0</td><td>0.0</td></tr><tr><td>Cageside Seats</td><td>Becky Lynch turns heel after losing tag team titles one night after winning them - Cageside Seats</td><td>2025-04-22</td><td>Geno Mrosko</td><td>https://www.cagesideseats.com/wwe/2025/4/21/24413591/becky-lynch-turns-heel-raw-after-mania-lyra-valkyria-liv-morgan-raquel-rodriguez</td><td>This is a dummy content for the URL.</td><td>4</td><td>0.0</td><td>0.0</td></tr><tr><td>The Cut</td><td>George and Amal Clooney Never Fight, Apparently - The Cut</td><td>2025-04-22</td><td>Elizabeth Gulino</td><td>http://www.thecut.com/article/george-amal-clooney-relationship-never-fight.html</td><td>This is a dummy content for the URL.</td><td>4</td><td>0.0</td><td>0.0</td></tr><tr><td>Cageside Seats</td><td>It looks like Randy Orton is next for WWE Champion John Cena - Cageside Seats</td><td>2025-04-22</td><td>Geno Mrosko</td><td>https://www.cagesideseats.com/wwe/2025/4/21/24413572/wwe-raw-after-mania-wwe-champion-john-cena-randy-orton</td><td>This is a dummy content for the URL.</td><td>4</td><td>0.0</td><td>0.0</td></tr><tr><td>The Washington Post</td><td>‘Andor’ and ‘Revenge of the Sith’: Two Star Wars tales about rebels and dictators - The Washington Post</td><td>2025-04-22</td><td>Herb Scribner</td><td>https://www.washingtonpost.com/entertainment/tv/2025/04/21/star-wars-andor-revenge-of-the-sith-resistance/</td><td>This is a dummy content for the URL.</td><td>4</td><td>0.0</td><td>0.0</td></tr><tr><td>Vulture</td><td>Ready or Not 2 Books a Vampire Slayer and Citizen Detective - Vulture</td><td>2025-04-21</td><td>Alejandra Gularte</td><td>http://www.vulture.com/article/ready-or-not-2-cast-trailer-release-date.html</td><td>This is a dummy content for the URL.</td><td>4</td><td>0.0</td><td>0.0</td></tr><tr><td>Wrestling Inc.</td><td>Backstage Details On TNA World Champion Joe Hendry's WWE WrestleMania 41 Appearance - Wrestling Inc.</td><td>2025-04-21</td><td>Ross W Berman IV</td><td>https://www.wrestlinginc.com/1840382/backstage-details-tna-world-champion-joe-hendry-wwe-wrestlemania-41-appearance/</td><td>This is a dummy content for the URL.</td><td>4</td><td>0.0</td><td>0.0</td></tr><tr><td>New York Post</td><td>Here’s how to watch ‘Conclave’ for free following Pope Francis’ death - New York Post</td><td>2025-04-21</td><td>Angela Tricarico</td><td>https://nypost.com/2025/04/21/entertainment/how-to-watch-conclave-for-free-after-pope-francis-death/</td><td>This is a dummy content for the URL.</td><td>4</td><td>0.0</td><td>0.0</td></tr><tr><td>Space.com</td><td>'The Fantastic Four: First Steps' trailer shown at CinemaCon now arrives for us all (video) - Space</td><td>2025-04-21</td><td>Jeff Spry</td><td>https://www.space.com/entertainment/the-fantastic-four-first-steps-trailer-shown-at-cinemacon-now-arrives-for-us-all-video</td><td>This is a dummy content for the URL.</td><td>4</td><td>0.0</td><td>0.0</td></tr><tr><td>Defector.com</td><td>WrestleMania 41’s Two Main Events And The Risks Of Getting Epic - Defector</td><td>2025-04-21</td><td>null</td><td>https://defector.com/wrestlemania-41s-two-main-events-and-the-risks-of-getting-epic</td><td>This is a dummy content for the URL.</td><td>4</td><td>0.0</td><td>0.0</td></tr><tr><td>Deadline</td><td>'Sinners' Star Michael B. Jordan On Another Hit With Ryan Coogler - Deadline</td><td>2025-04-21</td><td>Mike Fleming Jr</td><td>http://deadline.com/2025/04/sinners-michael-b-jordan-fully-fleshed-twin-breaking-off-pieces-of-his-past-fuels-another-ryan-coogler-triumph-1236372960/</td><td>This is a dummy content for the URL.</td><td>4</td><td>0.0</td><td>0.0</td></tr><tr><td>Futurism</td><td>Katy Perry Now Feeling Regrets Over Jeff Bezos Rocket Ride - futurism.com</td><td>2025-04-21</td><td>Victor Tangermann</td><td>https://futurism.com/katy-perry-regret-jeff-bezos-rocket-ride</td><td>This is a dummy content for the URL.</td><td>4</td><td>0.0</td><td>0.0</td></tr><tr><td>PEOPLE</td><td>Travel Influencer Dies at 28 After Being Diagnosed with Severe Liver Damage and Pneumonia - AOL.com</td><td>2025-04-21</td><td>Zoey Lyttle</td><td>https://people.com/travel-influencer-dies-at-28-after-being-diagnosed-with-severe-liver-damage-11718753</td><td>This is a dummy content for the URL.</td><td>4</td><td>0.0</td><td>0.0</td></tr><tr><td>Rolling Stone</td><td>Pedro Pascal Says He’s in ‘Active Denial’ After ‘The Last of Us’ Twist - Rolling Stone</td><td>2025-04-21</td><td>Brittany Spanos</td><td>http://www.rollingstone.com/tv-movies/tv-movie-news/pedro-pascal-in-active-denial-after-the-last-of-us-twist-1235321720/</td><td>This is a dummy content for the URL.</td><td>4</td><td>0.0</td><td>0.0</td></tr><tr><td>CNN</td><td>Billy Ray Cyrus and Elizabeth Hurley appear to make their relationship Instagram official - CNN</td><td>2025-04-21</td><td>Lisa Respers France</td><td>https://www.cnn.com/2025/04/21/entertainment/billy-ray-cyrus-elizabeth-hurley/index.html</td><td>This is a dummy content for the URL.</td><td>4</td><td>0.0</td><td>0.0</td></tr><tr><td>syracuse.com</td><td>Syracuse’s biggest concerts of all time: How 47,500 Metallica fans set a new record - Syracuse.com</td><td>2025-04-21</td><td>Geoff Herbert | gherbert@syracuse.com</td><td>https://www.syracuse.com/entertainment/2025/04/syracuses-biggest-concerts-of-all-time-how-47500-metallica-fans-set-a-new-record.html</td><td>This is a dummy content for the URL.</td><td>4</td><td>0.0</td><td>0.0</td></tr><tr><td>Cageside Seats</td><td>WWE Raw preview (Apr. 21, 2025): John Cena’s heel turn sucks - Cageside Seats</td><td>2025-04-21</td><td>Cain A. Knight</td><td>https://www.cagesideseats.com/wwe/2025/4/21/24412891/wwe-raw-after-wrestlemania-preview-apr-21-2025-john-cena-bad-heel-turn-new-champion-ruin-wrestling</td><td>This is a dummy content for the URL.</td><td>4</td><td>0.0</td><td>0.0</td></tr><tr><td>Yahoo Entertainment</td><td>WWE WrestleMania 41, Night 2 results: John Cena beats Cody Rhodes in lackluster headliner; The Rock no-shows - Yahoo Sports</td><td>2025-04-21</td><td>Anthony Sulla-Heffinger</td><td>https://sports.yahoo.com/wrestling/live/wwe-wrestlemania-41-night-2-results-john-cena-beats-cody-rhodes-in-lackluster-headliner-the-rock-no-shows-080034722.html</td><td>This is a dummy content for the URL.</td><td>4</td><td>0.0</td><td>0.0</td></tr><tr><td>Deadline</td><td>Miro & CJ Barnyashev Return To WWE In New Deal As Pair Makes Surprise Appearance At Monday Night Raw - Deadline</td><td>2025-04-22</td><td>Rosy Cordero</td><td>http://deadline.com/2025/04/miro-barnyashev-wwe-deal-1236373427/</td><td>This is a dummy content for the URL.</td><td>4</td><td>0.0</td><td>0.0</td></tr><tr><td>Variety</td><td>Larry David Spoofs Bill Maher's Trump Visit With Adolf Hitler Essay - Variety</td><td>2025-04-22</td><td>Jack Dunn</td><td>https://variety.com/2025/tv/news/larry-david-bill-maher-donald-trump-dinner-with-adolf-essay-1236374517/</td><td>This is a dummy content for the URL.</td><td>4</td><td>0.0</td><td>0.0</td></tr><tr><td>Cageside Seats</td><td>Becky Lynch turns heel after losing tag team titles one night after winning them - Cageside Seats</td><td>2025-04-22</td><td>Geno Mrosko</td><td>https://www.cagesideseats.com/wwe/2025/4/21/24413591/becky-lynch-turns-heel-raw-after-mania-lyra-valkyria-liv-morgan-raquel-rodriguez</td><td>This is a dummy content for the URL.</td><td>4</td><td>0.0</td><td>0.0</td></tr><tr><td>The Cut</td><td>George and Amal Clooney Never Fight, Apparently - The Cut</td><td>2025-04-22</td><td>Elizabeth Gulino</td><td>http://www.thecut.com/article/george-amal-clooney-relationship-never-fight.html</td><td>This is a dummy content for the URL.</td><td>4</td><td>0.0</td><td>0.0</td></tr><tr><td>The Washington Post</td><td>‘Andor’ and ‘Revenge of the Sith’: Two Star Wars tales about rebels and dictators - The Washington Post</td><td>2025-04-22</td><td>Herb Scribner</td><td>https://www.washingtonpost.com/entertainment/tv/2025/04/21/star-wars-andor-revenge-of-the-sith-resistance/</td><td>This is a dummy content for the URL.</td><td>4</td><td>0.0</td><td>0.0</td></tr><tr><td>Wrestling Inc.</td><td>Backstage Details On TNA World Champion Joe Hendry's WWE WrestleMania 41 Appearance - Wrestling Inc.</td><td>2025-04-21</td><td>Ross W Berman IV</td><td>https://www.wrestlinginc.com/1840382/backstage-details-tna-world-champion-joe-hendry-wwe-wrestlemania-41-appearance/</td><td>This is a dummy content for the URL.</td><td>4</td><td>0.0</td><td>0.0</td></tr><tr><td>Deadline</td><td>‘Star Wars’ Series In Works From Carlton Cuse & Nick Cuse - Deadline</td><td>2025-04-21</td><td>Denise Petski</td><td>http://deadline.com/2025/04/star-wars-series-carlton-cuse-nick-cuse-lucasfilm-1236373271/</td><td>This is a dummy content for the URL.</td><td>4</td><td>0.0</td><td>0.0</td></tr><tr><td>New York Post</td><td>Here’s how to watch ‘Conclave’ for free following Pope Francis’ death - New York Post</td><td>2025-04-21</td><td>Angela Tricarico</td><td>https://nypost.com/2025/04/21/entertainment/how-to-watch-conclave-for-free-after-pope-francis-death/</td><td>This is a dummy content for the URL.</td><td>4</td><td>0.0</td><td>0.0</td></tr><tr><td>Space.com</td><td>'The Fantastic Four: First Steps' trailer shown at CinemaCon now arrives for us all (video) - Space</td><td>2025-04-21</td><td>Jeff Spry</td><td>https://www.space.com/entertainment/the-fantastic-four-first-steps-trailer-shown-at-cinemacon-now-arrives-for-us-all-video</td><td>This is a dummy content for the URL.</td><td>4</td><td>0.0</td><td>0.0</td></tr><tr><td>Hollywood Reporter</td><td>‘Ready or Not’ Sequel Enlists Sarah Michelle Gellar, Elijah Wood - The Hollywood Reporter</td><td>2025-04-21</td><td>Mia Galuppo</td><td>http://www.hollywoodreporter.com/movies/movie-news/ready-or-not-here-i-come-sarah-michelle-gellar-elijah-wood-1236196758/</td><td>This is a dummy content for the URL.</td><td>4</td><td>0.0</td><td>0.0</td></tr><tr><td>Defector.com</td><td>WrestleMania 41’s Two Main Events And The Risks Of Getting Epic - Defector</td><td>2025-04-21</td><td>null</td><td>https://defector.com/wrestlemania-41s-two-main-events-and-the-risks-of-getting-epic</td><td>This is a dummy content for the URL.</td><td>4</td><td>0.0</td><td>0.0</td></tr><tr><td>Deadline</td><td>'Sinners' Star Michael B. Jordan On Another Hit With Ryan Coogler - Deadline</td><td>2025-04-21</td><td>Mike Fleming Jr</td><td>http://deadline.com/2025/04/sinners-michael-b-jordan-fully-fleshed-twin-breaking-off-pieces-of-his-past-fuels-another-ryan-coogler-triumph-1236372960/</td><td>This is a dummy content for the URL.</td><td>4</td><td>0.0</td><td>0.0</td></tr><tr><td>Futurism</td><td>Katy Perry Now Feeling Regrets Over Jeff Bezos Rocket Ride - futurism.com</td><td>2025-04-21</td><td>Victor Tangermann</td><td>https://futurism.com/katy-perry-regret-jeff-bezos-rocket-ride</td><td>This is a dummy content for the URL.</td><td>4</td><td>0.0</td><td>0.0</td></tr><tr><td>Rolling Stone</td><td>Pedro Pascal Says He’s in ‘Active Denial’ After ‘The Last of Us’ Twist - Rolling Stone</td><td>2025-04-21</td><td>Brittany Spanos</td><td>http://www.rollingstone.com/tv-movies/tv-movie-news/pedro-pascal-in-active-denial-after-the-last-of-us-twist-1235321720/</td><td>This is a dummy content for the URL.</td><td>4</td><td>0.0</td><td>0.0</td></tr><tr><td>CNN</td><td>Billy Ray Cyrus and Elizabeth Hurley appear to make their relationship Instagram official - CNN</td><td>2025-04-21</td><td>Lisa Respers France</td><td>https://www.cnn.com/2025/04/21/entertainment/billy-ray-cyrus-elizabeth-hurley/index.html</td><td>This is a dummy content for the URL.</td><td>4</td><td>0.0</td><td>0.0</td></tr><tr><td>syracuse.com</td><td>Syracuse’s biggest concerts of all time: How 47,500 Metallica fans set a new record - Syracuse.com</td><td>2025-04-21</td><td>Geoff Herbert | gherbert@syracuse.com</td><td>https://www.syracuse.com/entertainment/2025/04/syracuses-biggest-concerts-of-all-time-how-47500-metallica-fans-set-a-new-record.html</td><td>This is a dummy content for the URL.</td><td>4</td><td>0.0</td><td>0.0</td></tr><tr><td>Cageside Seats</td><td>WWE Raw preview (Apr. 21, 2025): John Cena’s heel turn sucks - Cageside Seats</td><td>2025-04-21</td><td>Cain A. Knight</td><td>https://www.cagesideseats.com/wwe/2025/4/21/24412891/wwe-raw-after-wrestlemania-preview-apr-21-2025-john-cena-bad-heel-turn-new-champion-ruin-wrestling</td><td>This is a dummy content for the URL.</td><td>4</td><td>0.0</td><td>0.0</td></tr><tr><td>Yahoo Entertainment</td><td>WWE WrestleMania 41, Night 2 results: John Cena beats Cody Rhodes in lackluster headliner; The Rock no-shows - Yahoo Sports</td><td>2025-04-21</td><td>Anthony Sulla-Heffinger</td><td>https://sports.yahoo.com/wrestling/live/wwe-wrestlemania-41-night-2-results-john-cena-beats-cody-rhodes-in-lackluster-headliner-the-rock-no-shows-080034722.html</td><td>This is a dummy content for the URL.</td><td>4</td><td>0.0</td><td>0.0</td></tr><tr><td>Hollywood Reporter</td><td>‘911’ Star Aisha Hinds Says Farewell to Co-Star Following Character’s Death: “I Hold Firmly and Fondly the Memories” - The Hollywood Reporter</td><td>2025-04-21</td><td>Carly Thomas</td><td>http://www.hollywoodreporter.com/tv/tv-news/911-aisha-hinds-farewell-co-star-after-characters-death-1236196371/</td><td>This is a dummy content for the URL.</td><td>4</td><td>0.0</td><td>0.0</td></tr><tr><td>Deadline</td><td>Miro & CJ Barnyashev Return To WWE In New Deal As Pair Makes Surprise Appearance At Monday Night Raw - Deadline</td><td>2025-04-22</td><td>Rosy Cordero</td><td>http://deadline.com/2025/04/miro-barnyashev-wwe-deal-1236373427/</td><td>This is a dummy content for the URL.</td><td>4</td><td>0.0</td><td>0.0</td></tr><tr><td>Variety</td><td>Larry David Spoofs Bill Maher's Trump Visit With Adolf Hitler Essay - Variety</td><td>2025-04-22</td><td>Jack Dunn</td><td>https://variety.com/2025/tv/news/larry-david-bill-maher-donald-trump-dinner-with-adolf-essay-1236374517/</td><td>This is a dummy content for the URL.</td><td>4</td><td>0.0</td><td>0.0</td></tr><tr><td>Cageside Seats</td><td>Becky Lynch turns heel after losing tag team titles one night after winning them - Cageside Seats</td><td>2025-04-22</td><td>Geno Mrosko</td><td>https://www.cagesideseats.com/wwe/2025/4/21/24413591/becky-lynch-turns-heel-raw-after-mania-lyra-valkyria-liv-morgan-raquel-rodriguez</td><td>This is a dummy content for the URL.</td><td>4</td><td>0.0</td><td>0.0</td></tr><tr><td>The Cut</td><td>George and Amal Clooney Never Fight, Apparently - The Cut</td><td>2025-04-22</td><td>Elizabeth Gulino</td><td>http://www.thecut.com/article/george-amal-clooney-relationship-never-fight.html</td><td>This is a dummy content for the URL.</td><td>4</td><td>0.0</td><td>0.0</td></tr><tr><td>The Washington Post</td><td>‘Andor’ and ‘Revenge of the Sith’: Two Star Wars tales about rebels and dictators - The Washington Post</td><td>2025-04-22</td><td>Herb Scribner</td><td>https://www.washingtonpost.com/entertainment/tv/2025/04/21/star-wars-andor-revenge-of-the-sith-resistance/</td><td>This is a dummy content for the URL.</td><td>4</td><td>0.0</td><td>0.0</td></tr><tr><td>Wrestling Inc.</td><td>Backstage Details On TNA World Champion Joe Hendry's WWE WrestleMania 41 Appearance - Wrestling Inc.</td><td>2025-04-21</td><td>Ross W Berman IV</td><td>https://www.wrestlinginc.com/1840382/backstage-details-tna-world-champion-joe-hendry-wwe-wrestlemania-41-appearance/</td><td>This is a dummy content for the URL.</td><td>4</td><td>0.0</td><td>0.0</td></tr><tr><td>Deadline</td><td>‘Star Wars’ Series In Works From Carlton Cuse & Nick Cuse - Deadline</td><td>2025-04-21</td><td>Denise Petski</td><td>http://deadline.com/2025/04/star-wars-series-carlton-cuse-nick-cuse-lucasfilm-1236373271/</td><td>This is a dummy content for the URL.</td><td>4</td><td>0.0</td><td>0.0</td></tr><tr><td>New York Post</td><td>Here’s how to watch ‘Conclave’ for free following Pope Francis’ death - New York Post</td><td>2025-04-21</td><td>Angela Tricarico</td><td>https://nypost.com/2025/04/21/entertainment/how-to-watch-conclave-for-free-after-pope-francis-death/</td><td>This is a dummy content for the URL.</td><td>4</td><td>0.0</td><td>0.0</td></tr><tr><td>Space.com</td><td>'The Fantastic Four: First Steps' trailer shown at CinemaCon now arrives for us all (video) - Space</td><td>2025-04-21</td><td>Jeff Spry</td><td>https://www.space.com/entertainment/the-fantastic-four-first-steps-trailer-shown-at-cinemacon-now-arrives-for-us-all-video</td><td>This is a dummy content for the URL.</td><td>4</td><td>0.0</td><td>0.0</td></tr><tr><td>Hollywood Reporter</td><td>‘Ready or Not’ Sequel Enlists Sarah Michelle Gellar, Elijah Wood - The Hollywood Reporter</td><td>2025-04-21</td><td>Mia Galuppo</td><td>http://www.hollywoodreporter.com/movies/movie-news/ready-or-not-here-i-come-sarah-michelle-gellar-elijah-wood-1236196758/</td><td>This is a dummy content for the URL.</td><td>4</td><td>0.0</td><td>0.0</td></tr><tr><td>Defector.com</td><td>WrestleMania 41’s Two Main Events And The Risks Of Getting Epic - Defector</td><td>2025-04-21</td><td>null</td><td>https://defector.com/wrestlemania-41s-two-main-events-and-the-risks-of-getting-epic</td><td>This is a dummy content for the URL.</td><td>4</td><td>0.0</td><td>0.0</td></tr><tr><td>Deadline</td><td>'Sinners' Star Michael B. Jordan On Another Hit With Ryan Coogler - Deadline</td><td>2025-04-21</td><td>Mike Fleming Jr</td><td>http://deadline.com/2025/04/sinners-michael-b-jordan-fully-fleshed-twin-breaking-off-pieces-of-his-past-fuels-another-ryan-coogler-triumph-1236372960/</td><td>This is a dummy content for the URL.</td><td>4</td><td>0.0</td><td>0.0</td></tr><tr><td>Futurism</td><td>Katy Perry Now Feeling Regrets Over Jeff Bezos Rocket Ride - futurism.com</td><td>2025-04-21</td><td>Victor Tangermann</td><td>https://futurism.com/katy-perry-regret-jeff-bezos-rocket-ride</td><td>This is a dummy content for the URL.</td><td>4</td><td>0.0</td><td>0.0</td></tr><tr><td>Rolling Stone</td><td>Pedro Pascal Says He’s in ‘Active Denial’ After ‘The Last of Us’ Twist - Rolling Stone</td><td>2025-04-21</td><td>Brittany Spanos</td><td>http://www.rollingstone.com/tv-movies/tv-movie-news/pedro-pascal-in-active-denial-after-the-last-of-us-twist-1235321720/</td><td>This is a dummy content for the URL.</td><td>4</td><td>0.0</td><td>0.0</td></tr><tr><td>CNN</td><td>Billy Ray Cyrus and Elizabeth Hurley appear to make their relationship Instagram official - CNN</td><td>2025-04-21</td><td>Lisa Respers France</td><td>https://www.cnn.com/2025/04/21/entertainment/billy-ray-cyrus-elizabeth-hurley/index.html</td><td>This is a dummy content for the URL.</td><td>4</td><td>0.0</td><td>0.0</td></tr><tr><td>syracuse.com</td><td>Syracuse’s biggest concerts of all time: How 47,500 Metallica fans set a new record - Syracuse.com</td><td>2025-04-21</td><td>Geoff Herbert | gherbert@syracuse.com</td><td>https://www.syracuse.com/entertainment/2025/04/syracuses-biggest-concerts-of-all-time-how-47500-metallica-fans-set-a-new-record.html</td><td>This is a dummy content for the URL.</td><td>4</td><td>0.0</td><td>0.0</td></tr><tr><td>Cageside Seats</td><td>WWE Raw preview (Apr. 21, 2025): John Cena’s heel turn sucks - Cageside Seats</td><td>2025-04-21</td><td>Cain A. Knight</td><td>https://www.cagesideseats.com/wwe/2025/4/21/24412891/wwe-raw-after-wrestlemania-preview-apr-21-2025-john-cena-bad-heel-turn-new-champion-ruin-wrestling</td><td>This is a dummy content for the URL.</td><td>4</td><td>0.0</td><td>0.0</td></tr><tr><td>Yahoo Entertainment</td><td>WWE WrestleMania 41, Night 2 results: John Cena beats Cody Rhodes in lackluster headliner; The Rock no-shows - Yahoo Sports</td><td>2025-04-21</td><td>Anthony Sulla-Heffinger</td><td>https://sports.yahoo.com/wrestling/live/wwe-wrestlemania-41-night-2-results-john-cena-beats-cody-rhodes-in-lackluster-headliner-the-rock-no-shows-080034722.html</td><td>This is a dummy content for the URL.</td><td>4</td><td>0.0</td><td>0.0</td></tr><tr><td>Hollywood Reporter</td><td>‘911’ Star Aisha Hinds Says Farewell to Co-Star Following Character’s Death: “I Hold Firmly and Fondly the Memories” - The Hollywood Reporter</td><td>2025-04-21</td><td>Carly Thomas</td><td>http://www.hollywoodreporter.com/tv/tv-news/911-aisha-hinds-farewell-co-star-after-characters-death-1236196371/</td><td>This is a dummy content for the URL.</td><td>4</td><td>0.0</td><td>0.0</td></tr></tbody></table></div>"
      ]
     },
     "metadata": {
      "application/vnd.databricks.v1+output": {
       "addedWidgets": {},
       "aggData": [],
       "aggError": "",
       "aggOverflow": false,
       "aggSchema": [],
       "aggSeriesLimitReached": false,
       "aggType": "",
       "arguments": {},
       "columnCustomDisplayInfos": {},
       "data": [
        [
         "Hindustan Times",
         "Kanye West poses with Bianca Censori in Spain amid shocking cousin incest confession - Hindustan Times",
         "2025-04-22",
         "Tuhin Das Mahapatra",
         "https://www.hindustantimes.com/entertainment/music/kanye-west-poses-with-bianca-censori-in-spain-amid-shocking-cousin-incest-confession-101745289793575.html",
         "This is a dummy content for the URL.",
         4,
         "0.0",
         0.0
        ],
        [
         "Deadline",
         "Miro & CJ Barnyashev Return To WWE In New Deal As Pair Makes Surprise Appearance At Monday Night Raw - Deadline",
         "2025-04-22",
         "Rosy Cordero",
         "http://deadline.com/2025/04/miro-barnyashev-wwe-deal-1236373427/",
         "This is a dummy content for the URL.",
         4,
         "0.0",
         0.0
        ],
        [
         "Cageside Seats",
         "Becky Lynch turns heel after losing tag team titles one night after winning them - Cageside Seats",
         "2025-04-22",
         "Geno Mrosko",
         "https://www.cagesideseats.com/wwe/2025/4/21/24413591/becky-lynch-turns-heel-raw-after-mania-lyra-valkyria-liv-morgan-raquel-rodriguez",
         "This is a dummy content for the URL.",
         4,
         "0.0",
         0.0
        ],
        [
         "The Cut",
         "George and Amal Clooney Never Fight, Apparently - The Cut",
         "2025-04-22",
         "Elizabeth Gulino",
         "http://www.thecut.com/article/george-amal-clooney-relationship-never-fight.html",
         "This is a dummy content for the URL.",
         4,
         "0.0",
         0.0
        ],
        [
         "The Washington Post",
         "‘Andor’ and ‘Revenge of the Sith’: Two Star Wars tales about rebels and dictators - The Washington Post",
         "2025-04-22",
         "Herb Scribner",
         "https://www.washingtonpost.com/entertainment/tv/2025/04/21/star-wars-andor-revenge-of-the-sith-resistance/",
         "This is a dummy content for the URL.",
         4,
         "0.0",
         0.0
        ],
        [
         "TVLine",
         "New Star Wars Series in the Works From Lost EP Carlton Cuse - TVLine",
         "2025-04-21",
         "Dave Nemetz",
         "https://tvline.com/news/star-wars-tv-show-carlton-cuse-1235438425/",
         "This is a dummy content for the URL.",
         4,
         "0.0",
         0.0
        ],
        [
         "Wrestling Inc.",
         "Backstage Details On TNA World Champion Joe Hendry's WWE WrestleMania 41 Appearance - Wrestling Inc.",
         "2025-04-21",
         "Ross W Berman IV",
         "https://www.wrestlinginc.com/1840382/backstage-details-tna-world-champion-joe-hendry-wwe-wrestlemania-41-appearance/",
         "This is a dummy content for the URL.",
         4,
         "0.0",
         0.0
        ],
        [
         "KTLA Los Angeles",
         "Coachella hip-hop act draws fire for anti-Israel message - KTLA",
         "2025-04-21",
         "Marc Sternfield",
         "https://ktla.com/news/california/coachella-hip-hop-act-draws-fire-for-anti-israel-message/",
         "This is a dummy content for the URL.",
         4,
         "0.0",
         0.0
        ],
        [
         "OK!",
         "Recluse Rob Kardashian Makes Rare Appearance at Sister Kim's Easter Celebration: Photos - okmagazine.com",
         "2025-04-21",
         "Jaclyn Roth",
         "https://okmagazine.com/p/recluse-rob-kardashian-rare-appearance-sister-kim-easter/",
         "This is a dummy content for the URL.",
         4,
         "0.0",
         0.0
        ],
        [
         "New York Post",
         "Here’s how to watch ‘Conclave’ for free following Pope Francis’ death - New York Post",
         "2025-04-21",
         "Angela Tricarico",
         "https://nypost.com/2025/04/21/entertainment/how-to-watch-conclave-for-free-after-pope-francis-death/",
         "This is a dummy content for the URL.",
         4,
         "0.0",
         0.0
        ],
        [
         "Space.com",
         "'The Fantastic Four: First Steps' trailer shown at CinemaCon now arrives for us all (video) - Space",
         "2025-04-21",
         "Jeff Spry",
         "https://www.space.com/entertainment/the-fantastic-four-first-steps-trailer-shown-at-cinemacon-now-arrives-for-us-all-video",
         "This is a dummy content for the URL.",
         4,
         "0.0",
         0.0
        ],
        [
         "Hollywood Reporter",
         "‘Ready or Not’ Sequel Enlists Sarah Michelle Gellar, Elijah Wood - The Hollywood Reporter",
         "2025-04-21",
         "Mia Galuppo",
         "http://www.hollywoodreporter.com/movies/movie-news/ready-or-not-here-i-come-sarah-michelle-gellar-elijah-wood-1236196758/",
         "This is a dummy content for the URL.",
         4,
         "0.0",
         0.0
        ],
        [
         "Defector.com",
         "WrestleMania 41’s Two Main Events And The Risks Of Getting Epic - Defector",
         "2025-04-21",
         null,
         "https://defector.com/wrestlemania-41s-two-main-events-and-the-risks-of-getting-epic",
         "This is a dummy content for the URL.",
         4,
         "0.0",
         0.0
        ],
        [
         "Deadline",
         "'Sinners' Star Michael B. Jordan On Another Hit With Ryan Coogler - Deadline",
         "2025-04-21",
         "Mike Fleming Jr",
         "http://deadline.com/2025/04/sinners-michael-b-jordan-fully-fleshed-twin-breaking-off-pieces-of-his-past-fuels-another-ryan-coogler-triumph-1236372960/",
         "This is a dummy content for the URL.",
         4,
         "0.0",
         0.0
        ],
        [
         "Futurism",
         "Katy Perry Now Feeling Regrets Over Jeff Bezos Rocket Ride - futurism.com",
         "2025-04-21",
         "Victor Tangermann",
         "https://futurism.com/katy-perry-regret-jeff-bezos-rocket-ride",
         "This is a dummy content for the URL.",
         4,
         "0.0",
         0.0
        ],
        [
         "PEOPLE",
         "Travel Influencer Dies at 28 After Being Diagnosed with Severe Liver Damage and Pneumonia - AOL.com",
         "2025-04-21",
         "Zoey Lyttle",
         "https://people.com/travel-influencer-dies-at-28-after-being-diagnosed-with-severe-liver-damage-11718753",
         "This is a dummy content for the URL.",
         4,
         "0.0",
         0.0
        ],
        [
         "Rolling Stone",
         "Pedro Pascal Says He’s in ‘Active Denial’ After ‘The Last of Us’ Twist - Rolling Stone",
         "2025-04-21",
         "Brittany Spanos",
         "http://www.rollingstone.com/tv-movies/tv-movie-news/pedro-pascal-in-active-denial-after-the-last-of-us-twist-1235321720/",
         "This is a dummy content for the URL.",
         4,
         "0.0",
         0.0
        ],
        [
         "CNN",
         "Billy Ray Cyrus and Elizabeth Hurley appear to make their relationship Instagram official - CNN",
         "2025-04-21",
         "Lisa Respers France",
         "https://www.cnn.com/2025/04/21/entertainment/billy-ray-cyrus-elizabeth-hurley/index.html",
         "This is a dummy content for the URL.",
         4,
         "0.0",
         0.0
        ],
        [
         "syracuse.com",
         "Syracuse’s biggest concerts of all time: How 47,500 Metallica fans set a new record - Syracuse.com",
         "2025-04-21",
         "Geoff Herbert | gherbert@syracuse.com",
         "https://www.syracuse.com/entertainment/2025/04/syracuses-biggest-concerts-of-all-time-how-47500-metallica-fans-set-a-new-record.html",
         "This is a dummy content for the URL.",
         4,
         "0.0",
         0.0
        ],
        [
         "Cageside Seats",
         "WWE Raw preview (Apr. 21, 2025): John Cena’s heel turn sucks - Cageside Seats",
         "2025-04-21",
         "Cain A. Knight",
         "https://www.cagesideseats.com/wwe/2025/4/21/24412891/wwe-raw-after-wrestlemania-preview-apr-21-2025-john-cena-bad-heel-turn-new-champion-ruin-wrestling",
         "This is a dummy content for the URL.",
         4,
         "0.0",
         0.0
        ],
        [
         "Yahoo Entertainment",
         "WWE WrestleMania 41, Night 2 results: John Cena beats Cody Rhodes in lackluster headliner; The Rock no-shows - Yahoo Sports",
         "2025-04-21",
         "Anthony Sulla-Heffinger",
         "https://sports.yahoo.com/wrestling/live/wwe-wrestlemania-41-night-2-results-john-cena-beats-cody-rhodes-in-lackluster-headliner-the-rock-no-shows-080034722.html",
         "This is a dummy content for the URL.",
         4,
         "0.0",
         0.0
        ],
        [
         "Hindustan Times",
         "Kanye West poses with Bianca Censori in Spain amid shocking cousin incest confession - Hindustan Times",
         "2025-04-22",
         "Tuhin Das Mahapatra",
         "https://www.hindustantimes.com/entertainment/music/kanye-west-poses-with-bianca-censori-in-spain-amid-shocking-cousin-incest-confession-101745289793575.html",
         "This is a dummy content for the URL.",
         4,
         "0.0",
         0.0
        ],
        [
         "Variety",
         "Larry David Spoofs Bill Maher's Trump Visit With Adolf Hitler Essay - Variety",
         "2025-04-22",
         "Jack Dunn",
         "https://variety.com/2025/tv/news/larry-david-bill-maher-donald-trump-dinner-with-adolf-essay-1236374517/",
         "This is a dummy content for the URL.",
         4,
         "0.0",
         0.0
        ],
        [
         "Cageside Seats",
         "Becky Lynch turns heel after losing tag team titles one night after winning them - Cageside Seats",
         "2025-04-22",
         "Geno Mrosko",
         "https://www.cagesideseats.com/wwe/2025/4/21/24413591/becky-lynch-turns-heel-raw-after-mania-lyra-valkyria-liv-morgan-raquel-rodriguez",
         "This is a dummy content for the URL.",
         4,
         "0.0",
         0.0
        ],
        [
         "The Cut",
         "George and Amal Clooney Never Fight, Apparently - The Cut",
         "2025-04-22",
         "Elizabeth Gulino",
         "http://www.thecut.com/article/george-amal-clooney-relationship-never-fight.html",
         "This is a dummy content for the URL.",
         4,
         "0.0",
         0.0
        ],
        [
         "Cageside Seats",
         "It looks like Randy Orton is next for WWE Champion John Cena - Cageside Seats",
         "2025-04-22",
         "Geno Mrosko",
         "https://www.cagesideseats.com/wwe/2025/4/21/24413572/wwe-raw-after-mania-wwe-champion-john-cena-randy-orton",
         "This is a dummy content for the URL.",
         4,
         "0.0",
         0.0
        ],
        [
         "The Washington Post",
         "‘Andor’ and ‘Revenge of the Sith’: Two Star Wars tales about rebels and dictators - The Washington Post",
         "2025-04-22",
         "Herb Scribner",
         "https://www.washingtonpost.com/entertainment/tv/2025/04/21/star-wars-andor-revenge-of-the-sith-resistance/",
         "This is a dummy content for the URL.",
         4,
         "0.0",
         0.0
        ],
        [
         "Vulture",
         "Ready or Not 2 Books a Vampire Slayer and Citizen Detective - Vulture",
         "2025-04-21",
         "Alejandra Gularte",
         "http://www.vulture.com/article/ready-or-not-2-cast-trailer-release-date.html",
         "This is a dummy content for the URL.",
         4,
         "0.0",
         0.0
        ],
        [
         "Wrestling Inc.",
         "Backstage Details On TNA World Champion Joe Hendry's WWE WrestleMania 41 Appearance - Wrestling Inc.",
         "2025-04-21",
         "Ross W Berman IV",
         "https://www.wrestlinginc.com/1840382/backstage-details-tna-world-champion-joe-hendry-wwe-wrestlemania-41-appearance/",
         "This is a dummy content for the URL.",
         4,
         "0.0",
         0.0
        ],
        [
         "New York Post",
         "Here’s how to watch ‘Conclave’ for free following Pope Francis’ death - New York Post",
         "2025-04-21",
         "Angela Tricarico",
         "https://nypost.com/2025/04/21/entertainment/how-to-watch-conclave-for-free-after-pope-francis-death/",
         "This is a dummy content for the URL.",
         4,
         "0.0",
         0.0
        ],
        [
         "Space.com",
         "'The Fantastic Four: First Steps' trailer shown at CinemaCon now arrives for us all (video) - Space",
         "2025-04-21",
         "Jeff Spry",
         "https://www.space.com/entertainment/the-fantastic-four-first-steps-trailer-shown-at-cinemacon-now-arrives-for-us-all-video",
         "This is a dummy content for the URL.",
         4,
         "0.0",
         0.0
        ],
        [
         "Defector.com",
         "WrestleMania 41’s Two Main Events And The Risks Of Getting Epic - Defector",
         "2025-04-21",
         null,
         "https://defector.com/wrestlemania-41s-two-main-events-and-the-risks-of-getting-epic",
         "This is a dummy content for the URL.",
         4,
         "0.0",
         0.0
        ],
        [
         "Deadline",
         "'Sinners' Star Michael B. Jordan On Another Hit With Ryan Coogler - Deadline",
         "2025-04-21",
         "Mike Fleming Jr",
         "http://deadline.com/2025/04/sinners-michael-b-jordan-fully-fleshed-twin-breaking-off-pieces-of-his-past-fuels-another-ryan-coogler-triumph-1236372960/",
         "This is a dummy content for the URL.",
         4,
         "0.0",
         0.0
        ],
        [
         "Futurism",
         "Katy Perry Now Feeling Regrets Over Jeff Bezos Rocket Ride - futurism.com",
         "2025-04-21",
         "Victor Tangermann",
         "https://futurism.com/katy-perry-regret-jeff-bezos-rocket-ride",
         "This is a dummy content for the URL.",
         4,
         "0.0",
         0.0
        ],
        [
         "PEOPLE",
         "Travel Influencer Dies at 28 After Being Diagnosed with Severe Liver Damage and Pneumonia - AOL.com",
         "2025-04-21",
         "Zoey Lyttle",
         "https://people.com/travel-influencer-dies-at-28-after-being-diagnosed-with-severe-liver-damage-11718753",
         "This is a dummy content for the URL.",
         4,
         "0.0",
         0.0
        ],
        [
         "Rolling Stone",
         "Pedro Pascal Says He’s in ‘Active Denial’ After ‘The Last of Us’ Twist - Rolling Stone",
         "2025-04-21",
         "Brittany Spanos",
         "http://www.rollingstone.com/tv-movies/tv-movie-news/pedro-pascal-in-active-denial-after-the-last-of-us-twist-1235321720/",
         "This is a dummy content for the URL.",
         4,
         "0.0",
         0.0
        ],
        [
         "CNN",
         "Billy Ray Cyrus and Elizabeth Hurley appear to make their relationship Instagram official - CNN",
         "2025-04-21",
         "Lisa Respers France",
         "https://www.cnn.com/2025/04/21/entertainment/billy-ray-cyrus-elizabeth-hurley/index.html",
         "This is a dummy content for the URL.",
         4,
         "0.0",
         0.0
        ],
        [
         "syracuse.com",
         "Syracuse’s biggest concerts of all time: How 47,500 Metallica fans set a new record - Syracuse.com",
         "2025-04-21",
         "Geoff Herbert | gherbert@syracuse.com",
         "https://www.syracuse.com/entertainment/2025/04/syracuses-biggest-concerts-of-all-time-how-47500-metallica-fans-set-a-new-record.html",
         "This is a dummy content for the URL.",
         4,
         "0.0",
         0.0
        ],
        [
         "Cageside Seats",
         "WWE Raw preview (Apr. 21, 2025): John Cena’s heel turn sucks - Cageside Seats",
         "2025-04-21",
         "Cain A. Knight",
         "https://www.cagesideseats.com/wwe/2025/4/21/24412891/wwe-raw-after-wrestlemania-preview-apr-21-2025-john-cena-bad-heel-turn-new-champion-ruin-wrestling",
         "This is a dummy content for the URL.",
         4,
         "0.0",
         0.0
        ],
        [
         "Yahoo Entertainment",
         "WWE WrestleMania 41, Night 2 results: John Cena beats Cody Rhodes in lackluster headliner; The Rock no-shows - Yahoo Sports",
         "2025-04-21",
         "Anthony Sulla-Heffinger",
         "https://sports.yahoo.com/wrestling/live/wwe-wrestlemania-41-night-2-results-john-cena-beats-cody-rhodes-in-lackluster-headliner-the-rock-no-shows-080034722.html",
         "This is a dummy content for the URL.",
         4,
         "0.0",
         0.0
        ],
        [
         "Deadline",
         "Miro & CJ Barnyashev Return To WWE In New Deal As Pair Makes Surprise Appearance At Monday Night Raw - Deadline",
         "2025-04-22",
         "Rosy Cordero",
         "http://deadline.com/2025/04/miro-barnyashev-wwe-deal-1236373427/",
         "This is a dummy content for the URL.",
         4,
         "0.0",
         0.0
        ],
        [
         "Variety",
         "Larry David Spoofs Bill Maher's Trump Visit With Adolf Hitler Essay - Variety",
         "2025-04-22",
         "Jack Dunn",
         "https://variety.com/2025/tv/news/larry-david-bill-maher-donald-trump-dinner-with-adolf-essay-1236374517/",
         "This is a dummy content for the URL.",
         4,
         "0.0",
         0.0
        ],
        [
         "Cageside Seats",
         "Becky Lynch turns heel after losing tag team titles one night after winning them - Cageside Seats",
         "2025-04-22",
         "Geno Mrosko",
         "https://www.cagesideseats.com/wwe/2025/4/21/24413591/becky-lynch-turns-heel-raw-after-mania-lyra-valkyria-liv-morgan-raquel-rodriguez",
         "This is a dummy content for the URL.",
         4,
         "0.0",
         0.0
        ],
        [
         "The Cut",
         "George and Amal Clooney Never Fight, Apparently - The Cut",
         "2025-04-22",
         "Elizabeth Gulino",
         "http://www.thecut.com/article/george-amal-clooney-relationship-never-fight.html",
         "This is a dummy content for the URL.",
         4,
         "0.0",
         0.0
        ],
        [
         "The Washington Post",
         "‘Andor’ and ‘Revenge of the Sith’: Two Star Wars tales about rebels and dictators - The Washington Post",
         "2025-04-22",
         "Herb Scribner",
         "https://www.washingtonpost.com/entertainment/tv/2025/04/21/star-wars-andor-revenge-of-the-sith-resistance/",
         "This is a dummy content for the URL.",
         4,
         "0.0",
         0.0
        ],
        [
         "Wrestling Inc.",
         "Backstage Details On TNA World Champion Joe Hendry's WWE WrestleMania 41 Appearance - Wrestling Inc.",
         "2025-04-21",
         "Ross W Berman IV",
         "https://www.wrestlinginc.com/1840382/backstage-details-tna-world-champion-joe-hendry-wwe-wrestlemania-41-appearance/",
         "This is a dummy content for the URL.",
         4,
         "0.0",
         0.0
        ],
        [
         "Deadline",
         "‘Star Wars’ Series In Works From Carlton Cuse & Nick Cuse - Deadline",
         "2025-04-21",
         "Denise Petski",
         "http://deadline.com/2025/04/star-wars-series-carlton-cuse-nick-cuse-lucasfilm-1236373271/",
         "This is a dummy content for the URL.",
         4,
         "0.0",
         0.0
        ],
        [
         "New York Post",
         "Here’s how to watch ‘Conclave’ for free following Pope Francis’ death - New York Post",
         "2025-04-21",
         "Angela Tricarico",
         "https://nypost.com/2025/04/21/entertainment/how-to-watch-conclave-for-free-after-pope-francis-death/",
         "This is a dummy content for the URL.",
         4,
         "0.0",
         0.0
        ],
        [
         "Space.com",
         "'The Fantastic Four: First Steps' trailer shown at CinemaCon now arrives for us all (video) - Space",
         "2025-04-21",
         "Jeff Spry",
         "https://www.space.com/entertainment/the-fantastic-four-first-steps-trailer-shown-at-cinemacon-now-arrives-for-us-all-video",
         "This is a dummy content for the URL.",
         4,
         "0.0",
         0.0
        ],
        [
         "Hollywood Reporter",
         "‘Ready or Not’ Sequel Enlists Sarah Michelle Gellar, Elijah Wood - The Hollywood Reporter",
         "2025-04-21",
         "Mia Galuppo",
         "http://www.hollywoodreporter.com/movies/movie-news/ready-or-not-here-i-come-sarah-michelle-gellar-elijah-wood-1236196758/",
         "This is a dummy content for the URL.",
         4,
         "0.0",
         0.0
        ],
        [
         "Defector.com",
         "WrestleMania 41’s Two Main Events And The Risks Of Getting Epic - Defector",
         "2025-04-21",
         null,
         "https://defector.com/wrestlemania-41s-two-main-events-and-the-risks-of-getting-epic",
         "This is a dummy content for the URL.",
         4,
         "0.0",
         0.0
        ],
        [
         "Deadline",
         "'Sinners' Star Michael B. Jordan On Another Hit With Ryan Coogler - Deadline",
         "2025-04-21",
         "Mike Fleming Jr",
         "http://deadline.com/2025/04/sinners-michael-b-jordan-fully-fleshed-twin-breaking-off-pieces-of-his-past-fuels-another-ryan-coogler-triumph-1236372960/",
         "This is a dummy content for the URL.",
         4,
         "0.0",
         0.0
        ],
        [
         "Futurism",
         "Katy Perry Now Feeling Regrets Over Jeff Bezos Rocket Ride - futurism.com",
         "2025-04-21",
         "Victor Tangermann",
         "https://futurism.com/katy-perry-regret-jeff-bezos-rocket-ride",
         "This is a dummy content for the URL.",
         4,
         "0.0",
         0.0
        ],
        [
         "Rolling Stone",
         "Pedro Pascal Says He’s in ‘Active Denial’ After ‘The Last of Us’ Twist - Rolling Stone",
         "2025-04-21",
         "Brittany Spanos",
         "http://www.rollingstone.com/tv-movies/tv-movie-news/pedro-pascal-in-active-denial-after-the-last-of-us-twist-1235321720/",
         "This is a dummy content for the URL.",
         4,
         "0.0",
         0.0
        ],
        [
         "CNN",
         "Billy Ray Cyrus and Elizabeth Hurley appear to make their relationship Instagram official - CNN",
         "2025-04-21",
         "Lisa Respers France",
         "https://www.cnn.com/2025/04/21/entertainment/billy-ray-cyrus-elizabeth-hurley/index.html",
         "This is a dummy content for the URL.",
         4,
         "0.0",
         0.0
        ],
        [
         "syracuse.com",
         "Syracuse’s biggest concerts of all time: How 47,500 Metallica fans set a new record - Syracuse.com",
         "2025-04-21",
         "Geoff Herbert | gherbert@syracuse.com",
         "https://www.syracuse.com/entertainment/2025/04/syracuses-biggest-concerts-of-all-time-how-47500-metallica-fans-set-a-new-record.html",
         "This is a dummy content for the URL.",
         4,
         "0.0",
         0.0
        ],
        [
         "Cageside Seats",
         "WWE Raw preview (Apr. 21, 2025): John Cena’s heel turn sucks - Cageside Seats",
         "2025-04-21",
         "Cain A. Knight",
         "https://www.cagesideseats.com/wwe/2025/4/21/24412891/wwe-raw-after-wrestlemania-preview-apr-21-2025-john-cena-bad-heel-turn-new-champion-ruin-wrestling",
         "This is a dummy content for the URL.",
         4,
         "0.0",
         0.0
        ],
        [
         "Yahoo Entertainment",
         "WWE WrestleMania 41, Night 2 results: John Cena beats Cody Rhodes in lackluster headliner; The Rock no-shows - Yahoo Sports",
         "2025-04-21",
         "Anthony Sulla-Heffinger",
         "https://sports.yahoo.com/wrestling/live/wwe-wrestlemania-41-night-2-results-john-cena-beats-cody-rhodes-in-lackluster-headliner-the-rock-no-shows-080034722.html",
         "This is a dummy content for the URL.",
         4,
         "0.0",
         0.0
        ],
        [
         "Hollywood Reporter",
         "‘911’ Star Aisha Hinds Says Farewell to Co-Star Following Character’s Death: “I Hold Firmly and Fondly the Memories” - The Hollywood Reporter",
         "2025-04-21",
         "Carly Thomas",
         "http://www.hollywoodreporter.com/tv/tv-news/911-aisha-hinds-farewell-co-star-after-characters-death-1236196371/",
         "This is a dummy content for the URL.",
         4,
         "0.0",
         0.0
        ],
        [
         "Deadline",
         "Miro & CJ Barnyashev Return To WWE In New Deal As Pair Makes Surprise Appearance At Monday Night Raw - Deadline",
         "2025-04-22",
         "Rosy Cordero",
         "http://deadline.com/2025/04/miro-barnyashev-wwe-deal-1236373427/",
         "This is a dummy content for the URL.",
         4,
         "0.0",
         0.0
        ],
        [
         "Variety",
         "Larry David Spoofs Bill Maher's Trump Visit With Adolf Hitler Essay - Variety",
         "2025-04-22",
         "Jack Dunn",
         "https://variety.com/2025/tv/news/larry-david-bill-maher-donald-trump-dinner-with-adolf-essay-1236374517/",
         "This is a dummy content for the URL.",
         4,
         "0.0",
         0.0
        ],
        [
         "Cageside Seats",
         "Becky Lynch turns heel after losing tag team titles one night after winning them - Cageside Seats",
         "2025-04-22",
         "Geno Mrosko",
         "https://www.cagesideseats.com/wwe/2025/4/21/24413591/becky-lynch-turns-heel-raw-after-mania-lyra-valkyria-liv-morgan-raquel-rodriguez",
         "This is a dummy content for the URL.",
         4,
         "0.0",
         0.0
        ],
        [
         "The Cut",
         "George and Amal Clooney Never Fight, Apparently - The Cut",
         "2025-04-22",
         "Elizabeth Gulino",
         "http://www.thecut.com/article/george-amal-clooney-relationship-never-fight.html",
         "This is a dummy content for the URL.",
         4,
         "0.0",
         0.0
        ],
        [
         "The Washington Post",
         "‘Andor’ and ‘Revenge of the Sith’: Two Star Wars tales about rebels and dictators - The Washington Post",
         "2025-04-22",
         "Herb Scribner",
         "https://www.washingtonpost.com/entertainment/tv/2025/04/21/star-wars-andor-revenge-of-the-sith-resistance/",
         "This is a dummy content for the URL.",
         4,
         "0.0",
         0.0
        ],
        [
         "Wrestling Inc.",
         "Backstage Details On TNA World Champion Joe Hendry's WWE WrestleMania 41 Appearance - Wrestling Inc.",
         "2025-04-21",
         "Ross W Berman IV",
         "https://www.wrestlinginc.com/1840382/backstage-details-tna-world-champion-joe-hendry-wwe-wrestlemania-41-appearance/",
         "This is a dummy content for the URL.",
         4,
         "0.0",
         0.0
        ],
        [
         "Deadline",
         "‘Star Wars’ Series In Works From Carlton Cuse & Nick Cuse - Deadline",
         "2025-04-21",
         "Denise Petski",
         "http://deadline.com/2025/04/star-wars-series-carlton-cuse-nick-cuse-lucasfilm-1236373271/",
         "This is a dummy content for the URL.",
         4,
         "0.0",
         0.0
        ],
        [
         "New York Post",
         "Here’s how to watch ‘Conclave’ for free following Pope Francis’ death - New York Post",
         "2025-04-21",
         "Angela Tricarico",
         "https://nypost.com/2025/04/21/entertainment/how-to-watch-conclave-for-free-after-pope-francis-death/",
         "This is a dummy content for the URL.",
         4,
         "0.0",
         0.0
        ],
        [
         "Space.com",
         "'The Fantastic Four: First Steps' trailer shown at CinemaCon now arrives for us all (video) - Space",
         "2025-04-21",
         "Jeff Spry",
         "https://www.space.com/entertainment/the-fantastic-four-first-steps-trailer-shown-at-cinemacon-now-arrives-for-us-all-video",
         "This is a dummy content for the URL.",
         4,
         "0.0",
         0.0
        ],
        [
         "Hollywood Reporter",
         "‘Ready or Not’ Sequel Enlists Sarah Michelle Gellar, Elijah Wood - The Hollywood Reporter",
         "2025-04-21",
         "Mia Galuppo",
         "http://www.hollywoodreporter.com/movies/movie-news/ready-or-not-here-i-come-sarah-michelle-gellar-elijah-wood-1236196758/",
         "This is a dummy content for the URL.",
         4,
         "0.0",
         0.0
        ],
        [
         "Defector.com",
         "WrestleMania 41’s Two Main Events And The Risks Of Getting Epic - Defector",
         "2025-04-21",
         null,
         "https://defector.com/wrestlemania-41s-two-main-events-and-the-risks-of-getting-epic",
         "This is a dummy content for the URL.",
         4,
         "0.0",
         0.0
        ],
        [
         "Deadline",
         "'Sinners' Star Michael B. Jordan On Another Hit With Ryan Coogler - Deadline",
         "2025-04-21",
         "Mike Fleming Jr",
         "http://deadline.com/2025/04/sinners-michael-b-jordan-fully-fleshed-twin-breaking-off-pieces-of-his-past-fuels-another-ryan-coogler-triumph-1236372960/",
         "This is a dummy content for the URL.",
         4,
         "0.0",
         0.0
        ],
        [
         "Futurism",
         "Katy Perry Now Feeling Regrets Over Jeff Bezos Rocket Ride - futurism.com",
         "2025-04-21",
         "Victor Tangermann",
         "https://futurism.com/katy-perry-regret-jeff-bezos-rocket-ride",
         "This is a dummy content for the URL.",
         4,
         "0.0",
         0.0
        ],
        [
         "Rolling Stone",
         "Pedro Pascal Says He’s in ‘Active Denial’ After ‘The Last of Us’ Twist - Rolling Stone",
         "2025-04-21",
         "Brittany Spanos",
         "http://www.rollingstone.com/tv-movies/tv-movie-news/pedro-pascal-in-active-denial-after-the-last-of-us-twist-1235321720/",
         "This is a dummy content for the URL.",
         4,
         "0.0",
         0.0
        ],
        [
         "CNN",
         "Billy Ray Cyrus and Elizabeth Hurley appear to make their relationship Instagram official - CNN",
         "2025-04-21",
         "Lisa Respers France",
         "https://www.cnn.com/2025/04/21/entertainment/billy-ray-cyrus-elizabeth-hurley/index.html",
         "This is a dummy content for the URL.",
         4,
         "0.0",
         0.0
        ],
        [
         "syracuse.com",
         "Syracuse’s biggest concerts of all time: How 47,500 Metallica fans set a new record - Syracuse.com",
         "2025-04-21",
         "Geoff Herbert | gherbert@syracuse.com",
         "https://www.syracuse.com/entertainment/2025/04/syracuses-biggest-concerts-of-all-time-how-47500-metallica-fans-set-a-new-record.html",
         "This is a dummy content for the URL.",
         4,
         "0.0",
         0.0
        ],
        [
         "Cageside Seats",
         "WWE Raw preview (Apr. 21, 2025): John Cena’s heel turn sucks - Cageside Seats",
         "2025-04-21",
         "Cain A. Knight",
         "https://www.cagesideseats.com/wwe/2025/4/21/24412891/wwe-raw-after-wrestlemania-preview-apr-21-2025-john-cena-bad-heel-turn-new-champion-ruin-wrestling",
         "This is a dummy content for the URL.",
         4,
         "0.0",
         0.0
        ],
        [
         "Yahoo Entertainment",
         "WWE WrestleMania 41, Night 2 results: John Cena beats Cody Rhodes in lackluster headliner; The Rock no-shows - Yahoo Sports",
         "2025-04-21",
         "Anthony Sulla-Heffinger",
         "https://sports.yahoo.com/wrestling/live/wwe-wrestlemania-41-night-2-results-john-cena-beats-cody-rhodes-in-lackluster-headliner-the-rock-no-shows-080034722.html",
         "This is a dummy content for the URL.",
         4,
         "0.0",
         0.0
        ],
        [
         "Hollywood Reporter",
         "‘911’ Star Aisha Hinds Says Farewell to Co-Star Following Character’s Death: “I Hold Firmly and Fondly the Memories” - The Hollywood Reporter",
         "2025-04-21",
         "Carly Thomas",
         "http://www.hollywoodreporter.com/tv/tv-news/911-aisha-hinds-farewell-co-star-after-characters-death-1236196371/",
         "This is a dummy content for the URL.",
         4,
         "0.0",
         0.0
        ]
       ],
       "datasetInfos": [
        {
         "name": "_sqldf",
         "schema": {
          "fields": [
           {
            "metadata": {},
            "name": "source",
            "nullable": true,
            "type": "string"
           },
           {
            "metadata": {},
            "name": "title",
            "nullable": true,
            "type": "string"
           },
           {
            "metadata": {},
            "name": "date_posted",
            "nullable": true,
            "type": "date"
           },
           {
            "metadata": {},
            "name": "author",
            "nullable": true,
            "type": "string"
           },
           {
            "metadata": {},
            "name": "url",
            "nullable": true,
            "type": "string"
           },
           {
            "metadata": {},
            "name": "content",
            "nullable": true,
            "type": "string"
           },
           {
            "metadata": {},
            "name": "word_count",
            "nullable": true,
            "type": "integer"
           },
           {
            "metadata": {},
            "name": "sentiment",
            "nullable": true,
            "type": "string"
           },
           {
            "metadata": {},
            "name": "compound_score",
            "nullable": true,
            "type": "double"
           }
          ],
          "type": "struct"
         },
         "tableIdentifier": null,
         "typeStr": "pyspark.sql.connect.dataframe.DataFrame"
        }
       ],
       "dbfsResultPath": null,
       "isJsonSchema": true,
       "metadata": {
        "createTempViewForImplicitDf": true,
        "dataframeName": "_sqldf",
        "executionCount": 200
       },
       "overflow": false,
       "plotOptions": {
        "customPlotOptions": {},
        "displayType": "table",
        "pivotAggregation": null,
        "pivotColumns": null,
        "xColumns": null,
        "yColumns": null
       },
       "removedWidgets": [],
       "schema": [
        {
         "metadata": "{}",
         "name": "source",
         "type": "\"string\""
        },
        {
         "metadata": "{}",
         "name": "title",
         "type": "\"string\""
        },
        {
         "metadata": "{}",
         "name": "date_posted",
         "type": "\"date\""
        },
        {
         "metadata": "{}",
         "name": "author",
         "type": "\"string\""
        },
        {
         "metadata": "{}",
         "name": "url",
         "type": "\"string\""
        },
        {
         "metadata": "{}",
         "name": "content",
         "type": "\"string\""
        },
        {
         "metadata": "{}",
         "name": "word_count",
         "type": "\"integer\""
        },
        {
         "metadata": "{}",
         "name": "sentiment",
         "type": "\"string\""
        },
        {
         "metadata": "{}",
         "name": "compound_score",
         "type": "\"double\""
        }
       ],
       "type": "table"
      }
     },
     "output_type": "display_data"
    }
   ],
   "source": [
    "%sql\n",
    "select * from the_news.news_table"
   ]
  }
 ],
 "metadata": {
  "application/vnd.databricks.v1+notebook": {
   "computePreferences": null,
   "dashboards": [],
   "environmentMetadata": {
    "base_environment": "",
    "environment_version": "2"
   },
   "inputWidgetPreferences": null,
   "language": "python",
   "notebookMetadata": {
    "mostRecentlyExecutedCommandWithImplicitDF": {
     "commandId": 658016692815249,
     "dataframes": [
      "_sqldf"
     ]
    },
    "pythonIndentUnit": 4
   },
   "notebookName": "Final_Project_-Automated-ETL-Pipeline-Using-Databricks",
   "widgets": {}
  },
  "language_info": {
   "name": "python"
  }
 },
 "nbformat": 4,
 "nbformat_minor": 0
}